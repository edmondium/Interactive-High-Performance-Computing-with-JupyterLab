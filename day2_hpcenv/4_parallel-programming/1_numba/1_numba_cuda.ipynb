{
 "cells": [
  {
   "attachments": {
    "75fbcf54-0e30-4011-a97f-1124259fa39e.png": {
     "image/png": "[encoded data removed]"
    }
   },
   "cell_type": "markdown",
   "metadata": {},
   "source": [
    "![image.png](attachment:75fbcf54-0e30-4011-a97f-1124259fa39e.png)\n",
    "\n",
    "Numba is an **open source JIT compiler** that translates a subset of Python and NumPy code into fast machine code.  \n",
    "Numba also works great with Jupyter notebooks **for interactive computing**, and with distributed execution frameworks, like Dask and Spark.  \n",
    "https://numba.pydata.org\n",
    "\n",
    "- [x] **Accelerate Python Functions**\n",
    "  - Numba translates Python functions to optimized machine code at runtime using the industry-standard LLVM compiler library.\n",
    "- [x] **Built for Scientific Computing**\n",
    "  - Numba is designed to be used with NumPy arrays and functions.\n",
    "  - Numba generates specialized code for different array data types and layouts to optimize performance.\n",
    "  - Special decorators can create universal functions that broadcast over NumPy arrays just like NumPy functions do.\n",
    "- [x] **Parallelize Your Algorithms**\n",
    "  - Numba offers a range of options for parallelizing your code for CPUs and GPUs, often with only minor code changes.\n",
    "  \n",
    "--------------------------------------------"
   ]
  },
  {
   "cell_type": "markdown",
   "metadata": {
    "id": "whscBGwEDcEZ"
   },
   "source": [
    "example from: https://colab.research.google.com/github/cbernet/maldives/blob/master/numba/numba_cuda.ipynb  \n",
    "blog on: https://thedatafrog.com/en/articles/boost-python-gpu/"
   ]
  },
  {
   "cell_type": "markdown",
   "metadata": {
    "id": "03jodrvKLJAP"
   },
   "source": [
    "## A gentle introduction to ufuncs\n",
    "\n",
    "**Numpy universal functions** or `ufuncs` are functions that operate on a numpy array in an element-by-element fashion.  \n",
    "For example, when we take the square of a numpy array, a `ufunc` computes the square of each element before returning the resulting array:  "
   ]
  },
  {
   "cell_type": "code",
   "execution_count": null,
   "metadata": {
    "colab": {
     "base_uri": "https://localhost:8080/",
     "height": 34
    },
    "id": "hw8e1l8iLpH1",
    "outputId": "c6b6de20-2d4c-4458-c367-cec379065d29"
   },
   "outputs": [],
   "source": [
    "import numpy as np\n",
    "x = np.arange(10)"
   ]
  },
  {
   "cell_type": "code",
   "execution_count": null,
   "metadata": {
    "colab": {
     "base_uri": "https://localhost:8080/",
     "height": 34
    },
    "id": "hw8e1l8iLpH1",
    "outputId": "c6b6de20-2d4c-4458-c367-cec379065d29"
   },
   "outputs": [],
   "source": [
    "x**2"
   ]
  },
  {
   "cell_type": "markdown",
   "metadata": {
    "id": "Y2hF7-vzLys6"
   },
   "source": [
    "Most **math functions** (if not all) are available as `ufuncs` in numpy.  \n",
    "For example, to exponentiate all elements in a numpy array: "
   ]
  },
  {
   "cell_type": "code",
   "execution_count": null,
   "metadata": {
    "colab": {
     "base_uri": "https://localhost:8080/",
     "height": 68
    },
    "id": "1n2hkLgbLx86",
    "outputId": "07e7b9c6-c222-4733-85da-445ed8396feb"
   },
   "outputs": [],
   "source": [
    "np.exp(x)"
   ]
  },
  {
   "cell_type": "markdown",
   "metadata": {
    "id": "zwkXetz9MInV"
   },
   "source": [
    "Most `ufuncs` are **implemented in compiled C code**, so they are already quite fast, and much faster than plain python.  \n",
    "For example, let's consider a large array, and let's compute the logarithm of each element, **both in plain python and in numpy**: "
   ]
  },
  {
   "cell_type": "code",
   "execution_count": null,
   "metadata": {
    "colab": {
     "base_uri": "https://localhost:8080/",
     "height": 51
    },
    "id": "v_EU7lwrNBUP",
    "outputId": "1bed24c6-1679-4368-a632-65f6e5b041f1"
   },
   "outputs": [],
   "source": [
    "import math\n",
    "x = np.arange(int(1e6))\n",
    "%timeit np.sqrt(x)\n",
    "%timeit [math.sqrt(xx) for xx in x]"
   ]
  },
  {
   "cell_type": "markdown",
   "metadata": {
    "id": "2xwQGTwVNXEr"
   },
   "source": [
    "We see that the numpy `ufunc` is more than **100 times faster**.  \n",
    "Still, in the `ufunc`, the calculation is **not parallelized**: the square root is computed sequentially on the CPU for each element in the array. \n",
    "\n",
    "The **GPU**, contrary to the CPU, is able to perform a large number of **operations simultaneously**.    \n",
    "\n",
    "**In the following,**  \n",
    "we will see how to create and compile `ufuncs` for the GPU to perform the calculation on many elements at the same time. "
   ]
  },
  {
   "cell_type": "markdown",
   "metadata": {
    "id": "Tk2lkx_LEJhN"
   },
   "source": [
    "## A very simple example : parallel square root calculation on the GPU \n",
    "\n",
    "Our first `ufunc` **for the GPU** will again compute the square root for a large number of points. \n",
    "\n",
    "We start by building a **sample of points ranging from 0 to 10 millions**. GPUs are more efficient with numbers that are encoded on a small number of bits. And often, a very high precision is not needed. So we create a sample of `float32` numbers (the default being `float64`): "
   ]
  },
  {
   "cell_type": "code",
   "execution_count": null,
   "metadata": {
    "id": "8CZsUw4REvNW"
   },
   "outputs": [],
   "source": [
    "import numpy as np\n",
    "npoints = int(1e7)\n",
    "a = np.arange(npoints, dtype=np.float32)"
   ]
  },
  {
   "cell_type": "markdown",
   "metadata": {
    "id": "v_rQxpVQP6Qo"
   },
   "source": [
    "**With numba**, we can create `ufuncs` **compiled for the CPU** using the vectorize decorator.  \n",
    "Let's start by doing this: "
   ]
  },
  {
   "cell_type": "code",
   "execution_count": null,
   "metadata": {
    "colab": {
     "base_uri": "https://localhost:8080/",
     "height": 51
    },
    "id": "xT64SF4DQR1V",
    "outputId": "2e1a47c0-e218-42e5-cb5c-f52baf9c125c"
   },
   "outputs": [],
   "source": [
    "import math\n",
    "from numba import vectorize \n",
    "\n",
    "@vectorize\n",
    "def cpu_sqrt(x):\n",
    "  return math.sqrt(x)"
   ]
  },
  {
   "cell_type": "code",
   "execution_count": null,
   "metadata": {
    "colab": {
     "base_uri": "https://localhost:8080/",
     "height": 51
    },
    "id": "xT64SF4DQR1V",
    "outputId": "2e1a47c0-e218-42e5-cb5c-f52baf9c125c"
   },
   "outputs": [],
   "source": [
    "cpu_sqrt(x)"
   ]
  },
  {
   "cell_type": "markdown",
   "metadata": {
    "id": "nhGMg8bSEwLw"
   },
   "source": [
    "Creating a `ufunc` **for the GPU** is almost as straightforward:"
   ]
  },
  {
   "cell_type": "code",
   "execution_count": null,
   "metadata": {
    "id": "zuaHYsSTnZml"
   },
   "outputs": [],
   "source": [
    "import math\n",
    "from numba import vectorize\n",
    "\n",
    "@vectorize(['float32(float32)'], target='cuda')\n",
    "def gpu_sqrt(x):\n",
    "    return math.sqrt(x)\n",
    "   "
   ]
  },
  {
   "cell_type": "code",
   "execution_count": null,
   "metadata": {
    "colab": {
     "base_uri": "https://localhost:8080/",
     "height": 51
    },
    "id": "_pnAX86QoQGq",
    "outputId": "e4d5e754-2b8a-4da4-b826-6ea7fb31f626"
   },
   "outputs": [],
   "source": [
    "gpu_sqrt(a)"
   ]
  },
  {
   "cell_type": "markdown",
   "metadata": {
    "id": "1IygNUitPxNi"
   },
   "source": [
    "It is important to note that, contrary to the CPU case, **the input and return types** of the function have to be specified, when compiling for the GPU.  \n",
    "In the string: \n",
    "\n",
    "```\n",
    "'float32(float32)'\n",
    "```\n",
    "\n",
    "The first `float32` corresponds to the return type, and the second one to the input type.  \n",
    "You can think of it as: the returned value is a function of the input value.  \n",
    "**Also, please note** that these types need to be adapted to your data.  \n",
    "In the case above, we have created an array of `float32` values, so we are fine. \n",
    "\n",
    "**Exercise:** Edit the type definition in the vectorize decorator to read `float64`, and see what happens when you call the function. Then change it back to `float32`."
   ]
  },
  {
   "cell_type": "markdown",
   "metadata": {
    "id": "npFHbvbNGZ0k"
   },
   "source": [
    "Now let's see how much we gained. For this, we use the timeit magic command. "
   ]
  },
  {
   "cell_type": "code",
   "execution_count": null,
   "metadata": {
    "colab": {
     "base_uri": "https://localhost:8080/",
     "height": 34
    },
    "id": "DNvfK-TeGBI3",
    "outputId": "861fd310-4780-4571-ad46-8456a11ed235"
   },
   "outputs": [],
   "source": [
    "%timeit gpu_sqrt(a)"
   ]
  },
  {
   "cell_type": "markdown",
   "metadata": {
    "id": "TRQYI0JjGrNB"
   },
   "source": [
    "The GPU managed to compute the sqrt for 10 million points in 14 ms.  \n",
    "Now let's see what we get with numpy, which is compiled for the CPU, and with our CPU `ufunc`: "
   ]
  },
  {
   "cell_type": "code",
   "execution_count": null,
   "metadata": {
    "colab": {
     "base_uri": "https://localhost:8080/",
     "height": 34
    },
    "id": "NPsSrGcyF5-a",
    "outputId": "e9c05364-61b1-4911-a1b8-b21a88adda09"
   },
   "outputs": [],
   "source": [
    "%timeit np.sqrt(a)"
   ]
  },
  {
   "cell_type": "code",
   "execution_count": null,
   "metadata": {
    "colab": {
     "base_uri": "https://localhost:8080/",
     "height": 51
    },
    "id": "r5cgsw2_Q4ZL",
    "outputId": "ccee7b57-23be-4de8-f9eb-1d24e7d9ce4c"
   },
   "outputs": [],
   "source": [
    "%timeit cpu_sqrt(a)"
   ]
  },
  {
   "cell_type": "markdown",
   "metadata": {
    "id": "eO1gsEtnF360"
   },
   "source": [
    "**Wait! We do not gain anything and the CPU version is actually twice faster!** \n",
    "\n",
    "There is a simple reason for this. When running on the GPU, the following happens under the hood: \n",
    "\n",
    "* the input data (the array `a`) is transferred to the GPU memory;\n",
    "* the calculation of the square root is done in parallel on the GPU for all elements of `a`;\n",
    "* the resulting array is sent back to the host system. \n",
    "\n",
    "If the calculation is too simple, there is no use shipping our data to the GPU for fast parallel processing, if we are to wait so long for the data transfers to complete. In other words, most of the time is spent in the data transfers, and the GPU is basically useless.\n",
    "\n",
    "Let's see what happens with a more involved calculation. "
   ]
  },
  {
   "cell_type": "markdown",
   "metadata": {
    "id": "lrze4fYGM2zu"
   },
   "source": [
    "## From cartesian to polar coordinates on the GPU\n",
    "\n",
    "Let's build an array of 1000 points in 2D, described by the cartesian coordinates x and y.  \n",
    "We choose to draw the points according to a 2D Gaussian distribution, introducing some correlation between the x and y components: "
   ]
  },
  {
   "cell_type": "code",
   "execution_count": null,
   "metadata": {
    "id": "KFMuCJTzNYcj"
   },
   "outputs": [],
   "source": [
    "points = np.random.multivariate_normal([0,0], [[1.,0.9], [0.9,1.]], 1000).astype(np.float32)"
   ]
  },
  {
   "cell_type": "code",
   "execution_count": null,
   "metadata": {
    "colab": {
     "base_uri": "https://localhost:8080/",
     "height": 286
    },
    "id": "jvAFfCXbvyI3",
    "outputId": "dae8cc84-863f-40cd-b6ca-39b01b5bcdd4"
   },
   "outputs": [],
   "source": [
    "%matplotlib inline\n",
    "import matplotlib.pyplot as plt\n",
    "plt.scatter(points[:,0], points[:,1])"
   ]
  },
  {
   "cell_type": "markdown",
   "metadata": {
    "id": "v7zHafAWNTsn"
   },
   "source": [
    "It's often useful to convert cartesian coordinates into the polar coordinates `R` and `theta`,  \n",
    "where r is the distance of the point to origin, and where theta is the angle between the x axis and the direction of the point. \n",
    "\n",
    "![](https://raw.githubusercontent.com/cbernet/maldives/master/numba/cart_polar.png)\n",
    "\n",
    "`R` is easily obtained as the quadratic sum of x and y: \n",
    "\n",
    "$$R = \\sqrt{x^2 + y^2}$$\n",
    "\n",
    "But to get theta, one has to use the `arctan2` function.  \n",
    "This function is available in numpy, and we can use it to easily get the results  \n",
    "(please note that the y coordinate has to be provided as the first argument)"
   ]
  },
  {
   "cell_type": "code",
   "execution_count": null,
   "metadata": {
    "colab": {
     "base_uri": "https://localhost:8080/",
     "height": 269
    },
    "id": "_QuMci1UOFMX",
    "outputId": "b9985859-d6d6-4a23-d78f-35e4c1fa3b6d"
   },
   "outputs": [],
   "source": [
    "theta = np.arctan2(points[:,1], points[:,0]) \n",
    "_ = plt.hist(theta, bins=100)"
   ]
  },
  {
   "cell_type": "markdown",
   "metadata": {
    "id": "GrBoDk1fPWVE"
   },
   "source": [
    "Because of the correlation between x and y, we see two peaks at $\\pi/4$ and $-3\\pi/4$."
   ]
  },
  {
   "cell_type": "markdown",
   "metadata": {
    "id": "GrBoDk1fPWVE"
   },
   "source": [
    "Now let's try and perform the same calculation on the GPU.  \n",
    "This time, we have two input values, and we define the function signature accordingly."
   ]
  },
  {
   "cell_type": "code",
   "execution_count": null,
   "metadata": {
    "id": "49E87JbarOOn"
   },
   "outputs": [],
   "source": [
    "import math\n",
    "@vectorize(['float32(float32, float32)'],target='cuda')\n",
    "def gpu_arctan2(y, x): \n",
    "    theta = math.atan2(y,x)\n",
    "    return theta"
   ]
  },
  {
   "cell_type": "markdown",
   "metadata": {
    "id": "Ma4OnucmRw4r"
   },
   "source": [
    "As before with `np.arctan2`, we need to slice our `points` array to provide first the array of `y` coordinates, and then the array of `x` coordinates: "
   ]
  },
  {
   "cell_type": "code",
   "execution_count": null,
   "metadata": {
    "colab": {
     "base_uri": "https://localhost:8080/",
     "height": 327
    },
    "id": "Lw8BMFAr8tS2",
    "outputId": "963c530b-8c02-46c7-dc8a-20afb7af39b4"
   },
   "outputs": [],
   "source": [
    "theta = gpu_arctan2(points[:,1], points[:,0])"
   ]
  },
  {
   "cell_type": "markdown",
   "metadata": {
    "id": "AR_hD0ndRNo3"
   },
   "source": [
    "**Hmm this doesn't work.**\n",
    "As the exception says, it is because `points[:,1]` contain values that are not contiguous in memory, and same for `points[:,2]`.  \n",
    "Memory representation of `points` = `xyxyxyxyxyxyxyxyxy...`\n",
    "\n",
    "So we do as instructed and convert these slices into contiguous arrays: "
   ]
  },
  {
   "cell_type": "code",
   "execution_count": null,
   "metadata": {
    "id": "ctVE6lhG9bBP"
   },
   "outputs": [],
   "source": [
    "x = np.ascontiguousarray(points[:,0])\n",
    "y = np.ascontiguousarray(points[:,1])"
   ]
  },
  {
   "cell_type": "code",
   "execution_count": null,
   "metadata": {
    "id": "XXCtUNAg9o74"
   },
   "outputs": [],
   "source": [
    "theta = gpu_arctan2(y, x)"
   ]
  },
  {
   "cell_type": "code",
   "execution_count": null,
   "metadata": {
    "colab": {
     "base_uri": "https://localhost:8080/",
     "height": 269
    },
    "id": "LQeyFTil9vJB",
    "outputId": "bb5d9ea8-315e-41ae-d936-ea499a7f9dfc"
   },
   "outputs": [],
   "source": [
    "_ = plt.hist(theta, bins=200)"
   ]
  },
  {
   "cell_type": "markdown",
   "metadata": {
    "id": "ziyMhQf9SoQV"
   },
   "source": [
    "And now it works! \n",
    "\n",
    "**As a general rule, one should remember that  \n",
    "CUDA operates on data buffers that are contiguous in memory, like a C array, or a numpy array before any slicing.**\n",
    "\n",
    "Now let's be a bit more ambitious, and compute theta for 10 million points: "
   ]
  },
  {
   "cell_type": "code",
   "execution_count": null,
   "metadata": {
    "id": "mb6O__sjr1tt"
   },
   "outputs": [],
   "source": [
    "points = np.random.multivariate_normal([0,0], [[1.,0.9], [0.9,1.]], int(1e7)).astype(np.float32)\n",
    "x = np.ascontiguousarray(points[:,0])\n",
    "y = np.ascontiguousarray(points[:,1])"
   ]
  },
  {
   "cell_type": "code",
   "execution_count": null,
   "metadata": {
    "colab": {
     "base_uri": "https://localhost:8080/",
     "height": 269
    },
    "id": "fdvX8t7bA4An",
    "outputId": "361a018c-b51c-4370-8489-835598f922ab"
   },
   "outputs": [],
   "source": [
    "_ = plt.hist(gpu_arctan2(y, x), bins=200)"
   ]
  },
  {
   "cell_type": "markdown",
   "metadata": {
    "id": "d_4uMeLBS1Kg"
   },
   "source": [
    "And finally, let's quantify how much time we gain by running on the GPU: "
   ]
  },
  {
   "cell_type": "code",
   "execution_count": null,
   "metadata": {
    "colab": {
     "base_uri": "https://localhost:8080/",
     "height": 34
    },
    "id": "dnQ7DGgvsGtf",
    "outputId": "5c7376cf-0743-4cc4-fb3b-a53c9c512993"
   },
   "outputs": [],
   "source": [
    "%timeit gpu_arctan2(y, x) # compiled for the GPU "
   ]
  },
  {
   "cell_type": "code",
   "execution_count": null,
   "metadata": {
    "colab": {
     "base_uri": "https://localhost:8080/",
     "height": 34
    },
    "id": "33XHREIXAWNg",
    "outputId": "15632d00-280e-4c17-cfdd-fdab985c2733"
   },
   "outputs": [],
   "source": [
    "%timeit np.arctan2(y, x) # compiled for the CPU"
   ]
  },
  {
   "cell_type": "code",
   "execution_count": null,
   "metadata": {
    "colab": {
     "base_uri": "https://localhost:8080/",
     "height": 34
    },
    "id": "s8fz5tC8HGgY",
    "outputId": "9a7fa172-163c-4a01-b3b1-43dd4240dd8d"
   },
   "outputs": [],
   "source": [
    "%timeit [math.atan2(point[1], point[0]) for point in points] # plain python"
   ]
  },
  {
   "cell_type": "markdown",
   "metadata": {
    "id": "snh32iOSTIQL"
   },
   "source": [
    "**Nice!** this time we gain more than a factor 10 on the GPU with respect to the numpy version, which is compiled for the CPU.  \n",
    "And this comes on top of a factor 300 gain with respect to plain python."
   ]
  },
  {
   "cell_type": "markdown",
   "metadata": {
    "id": "m86np5r3VMnS"
   },
   "source": [
    "**Remember: To use the GPU efficiently, you need to give it enough data to process, and complicated tasks.**"
   ]
  },
  {
   "cell_type": "markdown",
   "metadata": {
    "id": "0RFdj6vnSgRz"
   },
   "source": [
    "## Generalized ufuncs on the GPU\n",
    "\n",
    "In regular `ufuncs`, the calculation is done on each element of the input array, and returns a scalar. \n",
    "\n",
    "In generalized ufuncs (`gufuncs`), however, the calculation can **deal with a sub-array of the input array**,   \n",
    "and return an array of different dimensions.\n",
    "\n",
    "Let's have a look at a few examples, things are going to become much clearer. \n",
    "\n",
    "### Generalized ufuncs : from cartesian to polar coordinates\n",
    "\n",
    "Remember how we computed the polar angle for our 2D points above?  \n",
    "It would have been nice to get both `rho` and `theta` from this calculation, to get a real conversion from cartesian to polar coordinates.  \n",
    "This kind of thing is not possible with regular `ufuncs` but with `gufuncs`, it's easy:"
   ]
  },
  {
   "cell_type": "code",
   "execution_count": null,
   "metadata": {
    "id": "34HCaUDhAiAq"
   },
   "outputs": [],
   "source": [
    "from numba import guvectorize\n",
    "\n",
    "@guvectorize(['(float32[:], float32[:])'],\n",
    "             '(i)->(i)',                \n",
    "             target='cuda')\n",
    "def gpu_polar(vec, out):\n",
    "    x = vec[0]\n",
    "    y = vec[1]\n",
    "    out[0] = math.sqrt(x**2 + y**2)\n",
    "    out[1] = math.atan2(y,x)\n"
   ]
  },
  {
   "cell_type": "markdown",
   "metadata": {
    "id": "24pYBeIpXmrc"
   },
   "source": [
    "There are two imporant differences between `guvectorize` and `vectorize`. \n",
    "\n",
    "For `guvectorize`: \n",
    "\n",
    "* **one needs to provide the signature of the array operation**.  \n",
    "The signature of the array operation should **not to confused with the signature of the compiled function** that is provided as a first argument.  \n",
    "In the example above, `(i)->(i)` means that a 1D array is taken in input, and that a 1D array with the same size is provided in the output. The 1D array corresponds to the last dimension or innermost dimension of the input array. For example, our points array is of shape `(10000000,2)` so the last dimension is of size 2.\n",
    "* **the result is taken in input and modified in place**. In the code above, the resulting polar coordinates R and theta are stored in the `out` array while `vec`, the input array, contains the cartesian coordinates `x` and `y`."
   ]
  },
  {
   "cell_type": "markdown",
   "metadata": {
    "id": "7B9nynrzarZW"
   },
   "source": [
    "Let's do the conversion between cartesian and polar coordinates: \n",
    "\n",
    "\n"
   ]
  },
  {
   "cell_type": "code",
   "execution_count": null,
   "metadata": {
    "id": "rmKqnMVBUynE"
   },
   "outputs": [],
   "source": [
    "polar_coords = gpu_polar(points)"
   ]
  },
  {
   "cell_type": "code",
   "execution_count": null,
   "metadata": {
    "colab": {
     "base_uri": "https://localhost:8080/",
     "height": 283
    },
    "id": "y0GtKNeNWhnp",
    "outputId": "30f65394-a144-4c1c-853d-2004b212c8f0"
   },
   "outputs": [],
   "source": [
    "_ = plt.hist(polar_coords[:,0], bins=200)\n",
    "_ = plt.xlabel('R')"
   ]
  },
  {
   "cell_type": "code",
   "execution_count": null,
   "metadata": {
    "colab": {
     "base_uri": "https://localhost:8080/",
     "height": 283
    },
    "id": "N_lnYsK-XBsx",
    "outputId": "f0ba4ea0-2a3a-4e50-a9e0-f44a3d6311df"
   },
   "outputs": [],
   "source": [
    "_ = plt.hist(polar_coords[:,1], bins=200)\n",
    "_ = plt.xlabel('theta')"
   ]
  },
  {
   "cell_type": "markdown",
   "metadata": {
    "id": "kXSIQjDbccSV"
   },
   "source": [
    "### Generalized ufunc: Average \n",
    "\n",
    "To understand better how gufuncs work, let's make one that computes the average of the values on each line of a 2D array: "
   ]
  },
  {
   "cell_type": "code",
   "execution_count": null,
   "metadata": {
    "id": "_ZRhx6PrU2Es"
   },
   "outputs": [],
   "source": [
    "@guvectorize(['(float32[:], float32[:])'],\n",
    "             '(n)->()',                \n",
    "             target='cuda')\n",
    "def gpu_average(array, out):\n",
    "    acc = 0\n",
    "    for val in array: \n",
    "        acc += val\n",
    "    out[0] = acc/len(array)"
   ]
  },
  {
   "cell_type": "markdown",
   "metadata": {
    "id": "FCd7mfkifgbK"
   },
   "source": [
    "To test our gufunc, we create a 2D array: "
   ]
  },
  {
   "cell_type": "code",
   "execution_count": null,
   "metadata": {
    "colab": {
     "base_uri": "https://localhost:8080/",
     "height": 357
    },
    "id": "Ee1MM1B2fbHV",
    "outputId": "403e74eb-f555-41a2-c242-d49943e521be"
   },
   "outputs": [],
   "source": [
    "a = np.arange(100).reshape(20, 5).astype(np.float32)\n",
    "a"
   ]
  },
  {
   "cell_type": "code",
   "execution_count": null,
   "metadata": {
    "colab": {
     "base_uri": "https://localhost:8080/",
     "height": 51
    },
    "id": "p8TTRs5Pfpy0",
    "outputId": "42dc1912-6c87-47af-fe41-e7043eadf508"
   },
   "outputs": [],
   "source": [
    "gpu_average(a)"
   ]
  },
  {
   "cell_type": "markdown",
   "metadata": {
    "id": "E0_4_Io3QnNp"
   },
   "source": [
    "## Device functions \n",
    "\n",
    "So far, we have run a single function, either a ufunc or a gufunc, on the GPU, but we are not forced to put all of our code in a single function.\n",
    "\n",
    "Indeed, it is also  possible to compile helper functions for the GPU.  \n",
    "These functions, called **device functions**, can then be used on the GPU to make the code cleaner and more modular. \n",
    "\n",
    "As an example, let's take again the gufunc defined just above, that computes the average of the values of each line of a 2D array. \n",
    "\n",
    "We define a device function to add using the `numba.cuda.jit` decorator, to sum up the elements of a 1D array. Then, we modify the gpu_average gufunc to make use of the `add` device function. And finally, we create another gufunc to sum up the elements of on each line of a 2D array: "
   ]
  },
  {
   "cell_type": "code",
   "execution_count": null,
   "metadata": {
    "id": "i9XdnHRBfunN"
   },
   "outputs": [],
   "source": [
    "from numba import cuda\n",
    "\n",
    "@cuda.jit(device=True)\n",
    "def add(array): \n",
    "  acc = 0\n",
    "  for val in array: \n",
    "    acc += val\n",
    "  return acc\n",
    "\n",
    "@guvectorize(['(float32[:], float32[:])'],\n",
    "             '(n)->()',                \n",
    "             target='cuda')\n",
    "def gpu_average_2(array, out):\n",
    "    out[0] = add(array)/len(array)\n",
    "\n",
    "@guvectorize(['(float32[:], float32[:])'],\n",
    "             '(n)->()',                \n",
    "             target='cuda')\n",
    "def gpu_sum(array, out):\n",
    "    out[0] = add(array)\n",
    "\n",
    "    "
   ]
  },
  {
   "cell_type": "code",
   "execution_count": null,
   "metadata": {
    "colab": {
     "base_uri": "https://localhost:8080/",
     "height": 51
    },
    "id": "cNzS_PeoSVBZ",
    "outputId": "ea7701cc-0d40-4fe7-9fec-9dcf5c6083f5"
   },
   "outputs": [],
   "source": [
    "gpu_average_2(a)"
   ]
  },
  {
   "cell_type": "code",
   "execution_count": null,
   "metadata": {
    "colab": {
     "base_uri": "https://localhost:8080/",
     "height": 68
    },
    "id": "eTrkfYBPSjXT",
    "outputId": "09832783-426e-4e10-ca74-9dbbc57b409c"
   },
   "outputs": [],
   "source": [
    "gpu_sum(a)"
   ]
  },
  {
   "cell_type": "markdown",
   "metadata": {
    "id": "NuGYnrVkTbx4"
   },
   "source": [
    "The device function allows us to avoid code duplication. \n",
    "\n",
    "Obviously, it is a bit artifial to use a device function in such an easy case. But when implementing complex algorithms, these functions can prove very useful. Indeed, just like on the CPU, the general principles of programming apply: functions should be simple and to the point, and code duplication should be avoided. "
   ]
  },
  {
   "cell_type": "markdown",
   "metadata": {
    "id": "5U0yngpWU1Sg"
   },
   "source": [
    "## Memory management with device arrays\n",
    "\n",
    "As we have seen in the first `ufunc` example given in this article (parallel square root calculation), the GPU does not always provide a gain in performance. \n",
    "\n",
    "Indeed, before using the raw computing power of the GPU, we need to ship the data to the device. And afterwards, we need to get the results back. \n",
    "\n",
    "A good way to improve performance is to **minimize data transfers between the host system and the GPU**, and this can be done with device arrays. \n",
    "\n",
    "To illustrate this, we will use an example provided by nvidia in its DLI course. Let's assume we want to implement a neural network for image processing from scratch. A hidden layer in the network might have to do the following: \n",
    "\n",
    "* normalize greyscale values in the image\n",
    "* weigh them\n",
    "* apply an activation function \n",
    "\n",
    "Each of these three tasks can be done in parallel on the GPU. \n",
    "\n",
    "But first, let's see how to do that on the CPU with plain numpy. \n",
    "For simplicity, we will generate the greyscale values and the weights randomly. "
   ]
  },
  {
   "cell_type": "code",
   "execution_count": null,
   "metadata": {
    "id": "iFl7DB9wTZu5"
   },
   "outputs": [],
   "source": [
    "n = 1000000\n",
    "\n",
    "# random values between 0. and 255.\n",
    "greyscales = np.floor(np.random.uniform(0, 256, n).astype(np.float32))\n",
    "# random weights following a Gaussian distribution\n",
    "# centred on 0.5 and with width 0.1\n",
    "weights = np.random.normal(.5, .1, n).astype(np.float32)\n",
    "\n",
    "def normalize(grayscales):\n",
    "    return grayscales / 255\n",
    "\n",
    "def weigh(values, weights):\n",
    "    return values * weights\n",
    "        \n",
    "def activate(values):\n",
    "    return ( np.exp(values) - np.exp(-values) ) / \\\n",
    "            ( np.exp(values) + np.exp(-values) )\n"
   ]
  },
  {
   "cell_type": "code",
   "execution_count": null,
   "metadata": {
    "colab": {
     "base_uri": "https://localhost:8080/",
     "height": 34
    },
    "id": "EirTdzaSY7BH",
    "outputId": "7c442d8d-1193-4a51-a0c9-31a746a07c7b"
   },
   "outputs": [],
   "source": [
    "%%timeit\n",
    "normalized = np.float32(normalize(greyscales))\n",
    "weighted = weigh(normalized, weights)\n",
    "activated = activate(weighted)"
   ]
  },
  {
   "cell_type": "markdown",
   "metadata": {
    "id": "K6b4CSoHZ_dO"
   },
   "source": [
    "Now, we implement a parallel version of this algorithm for the GPU, as we have seen above. "
   ]
  },
  {
   "cell_type": "code",
   "execution_count": null,
   "metadata": {
    "id": "5d6Y2mgBZqyl"
   },
   "outputs": [],
   "source": [
    "@vectorize(['float32(float32)'],target='cuda')\n",
    "def gpu_normalize(x):\n",
    "  return x / 255\n",
    "\n",
    "@vectorize(['float32(float32, float32)'],target='cuda')\n",
    "def gpu_weigh(x, w):\n",
    "  return x * w\n",
    "\n",
    "@vectorize(['float32(float32)'],target='cuda')\n",
    "def gpu_activate(x): \n",
    "  return ( math.exp(x) - math.exp(-x) ) / ( math.exp(x) + math.exp(-x) )\n",
    "\n"
   ]
  },
  {
   "cell_type": "markdown",
   "metadata": {
    "id": "bq0Hui5Nar4M"
   },
   "source": [
    "Please note that the code in these `ufuncs` operates on scalar values, so we replaced the numpy `ufuncs` like np.exp by their math equivalent (the division by 255 and the multiplication between the values and the weights were also numpy ufuncs, though hidden a bit). \n",
    "\n",
    "And we check the performance: "
   ]
  },
  {
   "cell_type": "code",
   "execution_count": null,
   "metadata": {
    "colab": {
     "base_uri": "https://localhost:8080/",
     "height": 51
    },
    "id": "y1ge-bW_ajh5",
    "outputId": "557d2c1d-3774-4efd-d6e8-327f7896159d"
   },
   "outputs": [],
   "source": [
    "%%timeit\n",
    "normalized = gpu_normalize2(greyscales)\n",
    "weighted = gpu_weigh(normalized, weights)\n",
    "activated = gpu_activate(weighted)"
   ]
  },
  {
   "cell_type": "markdown",
   "metadata": {
    "id": "RoOELkQgbUnq"
   },
   "source": [
    "That's already quite nice, we gained more than a factor of two! \n",
    "\n",
    "But we realize that we spend time transferring data back and forth between the host and the GPU for nothing: \n",
    "\n",
    "1. transfer `greyscales` to the GPU\n",
    "1. transfer `normalized` to the host, and then back to the GPU, together with `weights`\n",
    "1. transfer `weighted` to the host, and then back to the GPU\n",
    "1. transfer `activated` to the host\n",
    "\n",
    "Actually, we only need to: \n",
    "\n",
    "1. transfer `greyscales` and `weights` to the GPU\n",
    "1. retrieve `activated`\n",
    "\n",
    "So let's do that: "
   ]
  },
  {
   "cell_type": "code",
   "execution_count": null,
   "metadata": {
    "colab": {
     "base_uri": "https://localhost:8080/",
     "height": 34
    },
    "id": "GCZHkmXhbKb8",
    "outputId": "6db9ee9c-69cf-42dc-d24a-c1c74886f773"
   },
   "outputs": [],
   "source": [
    "%%timeit\n",
    "\n",
    "# create intermediate arrays on the GPU\n",
    "normalized_gpu = cuda.device_array(shape=(n,), \n",
    "                               dtype=np.float32)\n",
    "weighted_gpu = cuda.device_array(shape=(n,), \n",
    "                             dtype=np.float32)\n",
    "\n",
    "# note that output device arrays are provided as arguments \n",
    "gpu_normalize(greyscales, out=normalized_gpu)\n",
    "gpu_weigh(normalized_gpu, weights, out=weighted_gpu)\n",
    "activated = gpu_activate(weighted_gpu)"
   ]
  },
  {
   "cell_type": "markdown",
   "metadata": {
    "id": "ZdPH1RdJeV41"
   },
   "source": [
    "We gain a factor of two by eliminating unnecessary data transfers! \n",
    "\n",
    "Another important thing to know is that we can also take full control on the transfers to and from the GPU like this:"
   ]
  },
  {
   "cell_type": "code",
   "execution_count": null,
   "metadata": {
    "id": "U1n43lAIdWGl"
   },
   "outputs": [],
   "source": [
    "# transfer inputs to the gpu\n",
    "greyscales_gpu = cuda.to_device(greyscales)\n",
    "weights_gpu = cuda.to_device(weights)\n",
    "\n",
    "# create intermediate arrays and output array on the GPU\n",
    "normalized_gpu = cuda.device_array(shape=(n,), \n",
    "                               dtype=np.float32)\n",
    "weighted_gpu = cuda.device_array(shape=(n,), \n",
    "                             dtype=np.float32)\n",
    "activated_gpu = cuda.device_array(shape=(n,), \n",
    "                             dtype=np.float32)\n"
   ]
  },
  {
   "cell_type": "markdown",
   "metadata": {
    "id": "FCTA-6f8fNu_"
   },
   "source": [
    "Now that everything we need is on the GPU, we do the calculation: "
   ]
  },
  {
   "cell_type": "code",
   "execution_count": null,
   "metadata": {
    "colab": {
     "base_uri": "https://localhost:8080/",
     "height": 34
    },
    "id": "4D3tldT0fLh_",
    "outputId": "d2d93787-c9db-4171-ec92-3cac01fe816d"
   },
   "outputs": [],
   "source": [
    "%%timeit\n",
    "gpu_normalize(greyscales_gpu, out=normalized_gpu)\n",
    "gpu_weigh(normalized_gpu, weights_gpu, out=weighted_gpu)\n",
    "gpu_activate(weighted_gpu, out=activated_gpu)"
   ]
  },
  {
   "cell_type": "markdown",
   "metadata": {
    "id": "kywGvXpIfcGe"
   },
   "source": [
    "You might be thinking that this factor 5 gain is artificial, because we did not include the necessary transfer times for the input and output data. That's right! Still, this illustrates how you can take full control of your data transfers, which might prove useful on more complex processing workflows. \n",
    "\n",
    "For instance, if we wanted to re-use any of the device arrays defined above, we could do it now, as they are still residing on the GPU as I'm writing this!\n",
    "\n",
    "Finally, here is how to retrieve the results: "
   ]
  },
  {
   "cell_type": "code",
   "execution_count": null,
   "metadata": {
    "colab": {
     "base_uri": "https://localhost:8080/",
     "height": 51
    },
    "id": "Jzs4oDbQfY8p",
    "outputId": "a30cceb4-eed2-4fae-ff34-1cab97186275"
   },
   "outputs": [],
   "source": [
    "activated = activated_gpu.copy_to_host()\n",
    "activated"
   ]
  },
  {
   "cell_type": "code",
   "execution_count": null,
   "metadata": {},
   "outputs": [],
   "source": []
  }
 ],
 "metadata": {
  "accelerator": "GPU",
  "colab": {
   "collapsed_sections": [],
   "name": "Kopie von numba_cuda.ipynb",
   "provenance": []
  },
  "kernelspec": {
   "display_name": "Python 3 (ipykernel)",
   "language": "python",
   "name": "python3"
  },
  "language_info": {
   "codemirror_mode": {
    "name": "ipython",
    "version": 3
   },
   "file_extension": ".py",
   "mimetype": "text/x-python",
   "name": "python",
   "nbconvert_exporter": "python",
   "pygments_lexer": "ipython3",
   "version": "3.9.6"
  }
 },
 "nbformat": 4,
 "nbformat_minor": 4
}
