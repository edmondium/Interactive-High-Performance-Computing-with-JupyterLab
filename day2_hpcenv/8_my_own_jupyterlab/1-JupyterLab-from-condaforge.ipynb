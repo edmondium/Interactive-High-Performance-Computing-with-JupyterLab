{
 "cells": [
  {
   "attachments": {
    "67258d94-84e6-4a0c-ae8f-c74332ec082e.jpg": {
     "image/jpeg": "[encoded data removed]"
    }
   },
   "cell_type": "markdown",
   "id": "f7b6c34a-a874-4158-8015-3802bb5b3c01",
   "metadata": {
    "tags": [],
    "toc-hr-collapsed": false
   },
   "source": [
    "![jsc-logo.jpg](attachment:67258d94-84e6-4a0c-ae8f-c74332ec082e.jpg)\n",
    "Author: [Jens Henrik Göbbert](mailto:j.goebbert@fz-juelich.de)\n",
    "------------------------------------"
   ]
  },
  {
   "cell_type": "markdown",
   "id": "665ed8a0-c103-4e27-912b-8dd9993cddbd",
   "metadata": {},
   "source": [
    "# Supercomputing with JupyterLab - Tips & Tricks\n",
    "\n",
    "This is the first time you are using JupyterLab on an HPC system? Let us show you some tips & tricks.\n",
    "\n",
    "This notebook might be special to the environment at Juelich Supercomputing Centre, Forschungszentrum Juelich, Germany.\n",
    "\n",
    "-------------------------"
   ]
  },
  {
   "cell_type": "markdown",
   "id": "adopted-characterization",
   "metadata": {},
   "source": [
    "### Install your own JupyterLab from conda\n"
   ]
  },
  {
   "cell_type": "markdown",
   "id": "extended-response",
   "metadata": {},
   "source": [
    "### Prepare Conda Settings"
   ]
  },
  {
   "cell_type": "markdown",
   "id": "alternative-paris",
   "metadata": {},
   "source": [
    "Selectable **CONDA_TARGET_DIR** path for the central conda installation, should be in the project filesystem"
   ]
  },
  {
   "cell_type": "code",
   "execution_count": 1,
   "id": "streaming-commissioner",
   "metadata": {},
   "outputs": [
    {
     "name": "stdout",
     "output_type": "stream",
     "text": [
      "/p/project/coecschool22/goebbert1/miniconda3\n"
     ]
    }
   ],
   "source": [
    "export CONDA_TARGET_DIR=${PROJECT}/${USER}/miniconda3 ## ${HOME}/miniconda3\n",
    "echo $CONDA_TARGET_DIR # double check"
   ]
  },
  {
   "cell_type": "markdown",
   "id": "operating-soviet",
   "metadata": {},
   "source": [
    "Selectable **CONDA_ENV** name, will be used to specify the environment name\n",
    "  - must be lowercase"
   ]
  },
  {
   "cell_type": "code",
   "execution_count": 2,
   "id": "related-sessions",
   "metadata": {},
   "outputs": [
    {
     "name": "stdout",
     "output_type": "stream",
     "text": [
      "my_jupyterlab3\n"
     ]
    }
   ],
   "source": [
    "CONDA_ENV=my_jupyterlab3\n",
    "\n",
    "export CONDA_ENV=$(echo \"${CONDA_ENV}\" | awk '{print tolower($0)}')\n",
    "echo ${CONDA_ENV} # double check"
   ]
  },
  {
   "cell_type": "markdown",
   "id": "olive-table",
   "metadata": {},
   "source": [
    "---\n",
    "## 1. Download/Install Miniconda"
   ]
  },
  {
   "cell_type": "markdown",
   "id": "confidential-pharmacy",
   "metadata": {},
   "source": [
    "Start here if you want to run the full installation.\n",
    "If you want to create another environment in an existing conda setup go to **create environment**.  \n",
    "If you want to attach yourself to an existing environment go to **create user kernel**."
   ]
  },
  {
   "cell_type": "markdown",
   "id": "composed-spending",
   "metadata": {},
   "source": [
    "* 1.1 - Download Minconda installer"
   ]
  },
  {
   "cell_type": "code",
   "execution_count": 3,
   "id": "adapted-constraint",
   "metadata": {},
   "outputs": [
    {
     "name": "stdout",
     "output_type": "stream",
     "text": [
      "--2022-10-24 23:39:44--  https://repo.continuum.io/miniconda/Miniconda3-latest-Linux-x86_64.sh\n",
      "Resolving repo.continuum.io (repo.continuum.io)... 104.18.200.79, 104.18.201.79, 2606:4700::6812:c94f, ...\n",
      "Connecting to repo.continuum.io (repo.continuum.io)|104.18.200.79|:443... connected.\n",
      "HTTP request sent, awaiting response... 301 Moved Permanently\n",
      "Location: https://repo.anaconda.com/miniconda/Miniconda3-latest-Linux-x86_64.sh [following]\n",
      "--2022-10-24 23:39:44--  https://repo.anaconda.com/miniconda/Miniconda3-latest-Linux-x86_64.sh\n",
      "Resolving repo.anaconda.com (repo.anaconda.com)... 104.16.130.3, 104.16.131.3, 2606:4700::6810:8203, ...\n",
      "Connecting to repo.anaconda.com (repo.anaconda.com)|104.16.130.3|:443... connected.\n",
      "HTTP request sent, awaiting response... 200 OK\n",
      "Length: 76607678 (73M) [application/x-sh]\n",
      "Saving to: ‘/p/project/ccstvs/goebbert1/home_juwels/Miniconda3.sh’\n",
      "\n",
      "/p/project/ccstvs/g 100%[===================>]  73.06M  61.7MB/s    in 1.2s    \n",
      "\n",
      "2022-10-24 23:39:45 (61.7 MB/s) - ‘/p/project/ccstvs/goebbert1/home_juwels/Miniconda3.sh’ saved [76607678/76607678]\n",
      "\n"
     ]
    }
   ],
   "source": [
    "wget --output-document=$HOME/Miniconda3.sh https://repo.continuum.io/miniconda/Miniconda3-latest-Linux-x86_64.sh"
   ]
  },
  {
   "cell_type": "markdown",
   "id": "substantial-provider",
   "metadata": {},
   "source": [
    "* 1.2 - Create target directory"
   ]
  },
  {
   "cell_type": "code",
   "execution_count": 4,
   "id": "secret-maker",
   "metadata": {},
   "outputs": [
    {
     "name": "stdout",
     "output_type": "stream",
     "text": [
      "/p/project/coecschool22/goebbert1/miniconda3\n"
     ]
    }
   ],
   "source": [
    "mkdir -p ${CONDA_TARGET_DIR}\n",
    "echo $CONDA_TARGET_DIR # double check"
   ]
  },
  {
   "cell_type": "markdown",
   "id": "streaming-shopping",
   "metadata": {},
   "source": [
    "* 1.3 - Install Miniconda"
   ]
  },
  {
   "cell_type": "code",
   "execution_count": 5,
   "id": "characteristic-woman",
   "metadata": {},
   "outputs": [
    {
     "name": "stdout",
     "output_type": "stream",
     "text": [
      "PREFIX=/p/project/coecschool22/goebbert1/miniconda3\n",
      "Unpacking payload ...\n",
      "Collecting package metadata (current_repodata.json): done                       \n",
      "Solving environment: done\n",
      "\n",
      "## Package Plan ##\n",
      "\n",
      "  environment location: /p/project/coecschool22/goebbert1/miniconda3\n",
      "\n",
      "  added / updated specs:\n",
      "    - _libgcc_mutex==0.1=main\n",
      "    - _openmp_mutex==4.5=1_gnu\n",
      "    - brotlipy==0.7.0=py39h27cfd23_1003\n",
      "    - ca-certificates==2022.3.29=h06a4308_1\n",
      "    - certifi==2021.10.8=py39h06a4308_2\n",
      "    - cffi==1.15.0=py39hd667e15_1\n",
      "    - charset-normalizer==2.0.4=pyhd3eb1b0_0\n",
      "    - colorama==0.4.4=pyhd3eb1b0_0\n",
      "    - conda-content-trust==0.1.1=pyhd3eb1b0_0\n",
      "    - conda-package-handling==1.8.1=py39h7f8727e_0\n",
      "    - conda==4.12.0=py39h06a4308_0\n",
      "    - cryptography==36.0.0=py39h9ce1e76_0\n",
      "    - idna==3.3=pyhd3eb1b0_0\n",
      "    - ld_impl_linux-64==2.35.1=h7274673_9\n",
      "    - libffi==3.3=he6710b0_2\n",
      "    - libgcc-ng==9.3.0=h5101ec6_17\n",
      "    - libgomp==9.3.0=h5101ec6_17\n",
      "    - libstdcxx-ng==9.3.0=hd4cf53a_17\n",
      "    - ncurses==6.3=h7f8727e_2\n",
      "    - openssl==1.1.1n=h7f8727e_0\n",
      "    - pip==21.2.4=py39h06a4308_0\n",
      "    - pycosat==0.6.3=py39h27cfd23_0\n",
      "    - pycparser==2.21=pyhd3eb1b0_0\n",
      "    - pyopenssl==22.0.0=pyhd3eb1b0_0\n",
      "    - pysocks==1.7.1=py39h06a4308_0\n",
      "    - python==3.9.12=h12debd9_0\n",
      "    - readline==8.1.2=h7f8727e_1\n",
      "    - requests==2.27.1=pyhd3eb1b0_0\n",
      "    - ruamel_yaml==0.15.100=py39h27cfd23_0\n",
      "    - setuptools==61.2.0=py39h06a4308_0\n",
      "    - six==1.16.0=pyhd3eb1b0_1\n",
      "    - sqlite==3.38.2=hc218d9a_0\n",
      "    - tk==8.6.11=h1ccaba5_0\n",
      "    - tqdm==4.63.0=pyhd3eb1b0_0\n",
      "    - tzdata==2022a=hda174b7_0\n",
      "    - urllib3==1.26.8=pyhd3eb1b0_0\n",
      "    - wheel==0.37.1=pyhd3eb1b0_0\n",
      "    - xz==5.2.5=h7b6447c_0\n",
      "    - yaml==0.2.5=h7b6447c_0\n",
      "    - zlib==1.2.12=h7f8727e_1\n",
      "\n",
      "\n",
      "The following NEW packages will be INSTALLED:\n",
      "\n",
      "  _libgcc_mutex      pkgs/main/linux-64::_libgcc_mutex-0.1-main\n",
      "  _openmp_mutex      pkgs/main/linux-64::_openmp_mutex-4.5-1_gnu\n",
      "  brotlipy           pkgs/main/linux-64::brotlipy-0.7.0-py39h27cfd23_1003\n",
      "  ca-certificates    pkgs/main/linux-64::ca-certificates-2022.3.29-h06a4308_1\n",
      "  certifi            pkgs/main/linux-64::certifi-2021.10.8-py39h06a4308_2\n",
      "  cffi               pkgs/main/linux-64::cffi-1.15.0-py39hd667e15_1\n",
      "  charset-normalizer pkgs/main/noarch::charset-normalizer-2.0.4-pyhd3eb1b0_0\n",
      "  colorama           pkgs/main/noarch::colorama-0.4.4-pyhd3eb1b0_0\n",
      "  conda              pkgs/main/linux-64::conda-4.12.0-py39h06a4308_0\n",
      "  conda-content-tru~ pkgs/main/noarch::conda-content-trust-0.1.1-pyhd3eb1b0_0\n",
      "  conda-package-han~ pkgs/main/linux-64::conda-package-handling-1.8.1-py39h7f8727e_0\n",
      "  cryptography       pkgs/main/linux-64::cryptography-36.0.0-py39h9ce1e76_0\n",
      "  idna               pkgs/main/noarch::idna-3.3-pyhd3eb1b0_0\n",
      "  ld_impl_linux-64   pkgs/main/linux-64::ld_impl_linux-64-2.35.1-h7274673_9\n",
      "  libffi             pkgs/main/linux-64::libffi-3.3-he6710b0_2\n",
      "  libgcc-ng          pkgs/main/linux-64::libgcc-ng-9.3.0-h5101ec6_17\n",
      "  libgomp            pkgs/main/linux-64::libgomp-9.3.0-h5101ec6_17\n",
      "  libstdcxx-ng       pkgs/main/linux-64::libstdcxx-ng-9.3.0-hd4cf53a_17\n",
      "  ncurses            pkgs/main/linux-64::ncurses-6.3-h7f8727e_2\n",
      "  openssl            pkgs/main/linux-64::openssl-1.1.1n-h7f8727e_0\n",
      "  pip                pkgs/main/linux-64::pip-21.2.4-py39h06a4308_0\n",
      "  pycosat            pkgs/main/linux-64::pycosat-0.6.3-py39h27cfd23_0\n",
      "  pycparser          pkgs/main/noarch::pycparser-2.21-pyhd3eb1b0_0\n",
      "  pyopenssl          pkgs/main/noarch::pyopenssl-22.0.0-pyhd3eb1b0_0\n",
      "  pysocks            pkgs/main/linux-64::pysocks-1.7.1-py39h06a4308_0\n",
      "  python             pkgs/main/linux-64::python-3.9.12-h12debd9_0\n",
      "  readline           pkgs/main/linux-64::readline-8.1.2-h7f8727e_1\n",
      "  requests           pkgs/main/noarch::requests-2.27.1-pyhd3eb1b0_0\n",
      "  ruamel_yaml        pkgs/main/linux-64::ruamel_yaml-0.15.100-py39h27cfd23_0\n",
      "  setuptools         pkgs/main/linux-64::setuptools-61.2.0-py39h06a4308_0\n",
      "  six                pkgs/main/noarch::six-1.16.0-pyhd3eb1b0_1\n",
      "  sqlite             pkgs/main/linux-64::sqlite-3.38.2-hc218d9a_0\n",
      "  tk                 pkgs/main/linux-64::tk-8.6.11-h1ccaba5_0\n",
      "  tqdm               pkgs/main/noarch::tqdm-4.63.0-pyhd3eb1b0_0\n",
      "  tzdata             pkgs/main/noarch::tzdata-2022a-hda174b7_0\n",
      "  urllib3            pkgs/main/noarch::urllib3-1.26.8-pyhd3eb1b0_0\n",
      "  wheel              pkgs/main/noarch::wheel-0.37.1-pyhd3eb1b0_0\n",
      "  xz                 pkgs/main/linux-64::xz-5.2.5-h7b6447c_0\n",
      "  yaml               pkgs/main/linux-64::yaml-0.2.5-h7b6447c_0\n",
      "  zlib               pkgs/main/linux-64::zlib-1.2.12-h7f8727e_1\n",
      "\n",
      "\n",
      "Preparing transaction: done\n",
      "Executing transaction: done\n",
      "installation finished.\n",
      "WARNING:\n",
      "    You currently have a PYTHONPATH environment variable set. This may cause\n",
      "    unexpected behavior when running the Python interpreter in Miniconda3.\n",
      "    For best results, please verify that your PYTHONPATH only points to\n",
      "    directories of packages that are compatible with the Python interpreter\n",
      "    in Miniconda3: /p/project/coecschool22/goebbert1/miniconda3\n"
     ]
    }
   ],
   "source": [
    "bash $HOME/Miniconda3.sh -b -u -p ${CONDA_TARGET_DIR}"
   ]
  },
  {
   "cell_type": "code",
   "execution_count": 6,
   "id": "intellectual-pipeline",
   "metadata": {},
   "outputs": [
    {
     "name": "stdout",
     "output_type": "stream",
     "text": [
      "/p/software/juwels/stages/2022/software/JupyterKernel-PyDeepLearning/1.1-gcccoremkl-11.2.0-2021.4.0-2022.3.4/lib/python3.9/site-packages:/p/software/juwels/stages/2022/software/JupyterKernel-Octave/6.4.0-gcccoremkl-11.2.0-2021.4.0-2022.3.4/lib/python3.9/site-packages:/p/software/juwels/stages/2022/software/JupyterKernel-Julia/1.7.1-gcccoremkl-11.2.0-2021.4.0-2022.3.4/lib/python3.9/site-packages:/p/software/juwels/stages/2022/software/JupyterKernel-Cling/0.9-gcccoremkl-11.2.0-2021.4.0-2022.3.4/lib/python3.9/site-packages:/p/software/juwels/stages/2022/software/JupyterKernel-Bash/0.7.2-gcccoremkl-11.2.0-2021.4.0-2022.3.4/lib/python3.9/site-packages:/p/software/juwels/stages/2022/software/JupyterProxy-XpraHTML5/0.3.4-gcccoremkl-11.2.0-2021.4.0-2022.3.4/lib/python3.9/site-packages:/p/software/juwels/stages/2022/software/Jupyter/2022.3.4-gcccoremkl-11.2.0-2021.4.0/lib/python3.9/site-packages:/p/software/juwels/stages/2022/software/Shapely/1.8.0-GCCcore-11.2.0/lib/python3.9/site-packages:/p/software/juwels/stages/2022/software/numba/0.55.1-gcccoremkl-11.2.0-2021.4.0/lib/python3.9/site-packages:/p/software/juwels/stages/2022/software/scikit-image/0.18.3-gcccoremkl-11.2.0-2021.4.0/lib/python3.9/site-packages:/p/software/juwels/stages/2022/software/dask/2021.9.1-gcccoremkl-11.2.0-2021.4.0/lib/python3.9/site-packages:/p/software/juwels/stages/2022/software/bokeh/2.4.1-gcccoremkl-11.2.0-2021.4.0/lib/python3.9/site-packages:/p/software/juwels/stages/2022/software/typing-extensions/3.10.0.0-GCCcore-11.2.0/lib/python3.9/site-packages:/p/software/juwels/stages/2022/software/PyYAML/5.4.1-GCCcore-11.2.0/lib/python3.9/site-packages:/p/software/juwels/stages/2022/software/scikit-learn/1.0.1-gcccoremkl-11.2.0-2021.4.0/lib/python3.9/site-packages:/p/software/juwels/stages/2022/software/scikit-build/0.11.1-GCCcore-11.2.0/lib/python3.9/site-packages:/p/software/juwels/stages/2022/software/xarray/0.20.1-gcccoremkl-11.2.0-2021.4.0/lib/python3.9/site-packages:/p/software/juwels/stages/2022/software/sympy/1.8-gcccoremkl-11.2.0-2021.4.0/lib/python3.9/site-packages:/p/software/juwels/stages/2022/software/gmpy2/2.1.0b5-gcccoremkl-11.2.0-2021.4.0/lib/python3.9/site-packages:/p/software/juwels/stages/2022/software/Seaborn/0.11.2-gcccoremkl-11.2.0-2021.4.0/lib/python3.9/site-packages:/p/software/juwels/stages/2022/software/matplotlib/3.4.3-gcccoremkl-11.2.0-2021.4.0/lib/python3.9/site-packages:/p/software/juwels/stages/2022/software/Pillow-SIMD/9.0.1-GCCcore-11.2.0/lib/python3.9/site-packages:/p/software/juwels/stages/2022/software/Tkinter/3.9.6-GCCcore-11.2.0/lib/python3.9/site-packages:/p/software/juwels/stages/2022/software/netcdf4-python/1.5.7-GCCcore-11.2.0-serial/lib/python3.9/site-packages:/p/software/juwels/stages/2022/software/h5py/3.5.0-GCCcore-11.2.0-serial/lib/python3.9/site-packages:/p/software/juwels/stages/2022/software/ITK/5.2.1-GCCcore-11.2.0-nompi/lib/python3.9/site-packages:/p/software/juwels/stages/2022/software/SciPy-bundle/2021.10-gcccoremkl-11.2.0-2021.4.0/lib/python3.9/site-packages:/p/software/juwels/stages/2022/software/pybind11/2.7.1-GCCcore-11.2.0/lib/python3.9/site-packages:/p/software/juwels/stages/2022/software/Python/3.9.6-GCCcore-11.2.0/easybuild/python\n"
     ]
    }
   ],
   "source": [
    "# verify that PYTHONPATH only points to directories of packages\n",
    "# that are compatible with the Python interpreter in Miniconda3\n",
    "echo $PYTHONPATH"
   ]
  },
  {
   "cell_type": "code",
   "execution_count": 7,
   "id": "boring-tokyo",
   "metadata": {},
   "outputs": [
    {
     "name": "stdout",
     "output_type": "stream",
     "text": [
      "\n"
     ]
    }
   ],
   "source": [
    "# for now we unset the PYTHONPATH\n",
    "# if you want to use modules with conda, you might need to think about this step again\n",
    "unset PYTHONPATH\n",
    "echo $PYTHONPATH"
   ]
  },
  {
   "cell_type": "code",
   "execution_count": 8,
   "id": "defensive-retail",
   "metadata": {},
   "outputs": [
    {
     "name": "stdout",
     "output_type": "stream",
     "text": [
      "no change     /p/project/coecschool22/goebbert1/miniconda3/condabin/conda\n",
      "no change     /p/project/coecschool22/goebbert1/miniconda3/bin/conda\n",
      "no change     /p/project/coecschool22/goebbert1/miniconda3/bin/conda-env\n",
      "no change     /p/project/coecschool22/goebbert1/miniconda3/bin/activate\n",
      "no change     /p/project/coecschool22/goebbert1/miniconda3/bin/deactivate\n",
      "no change     /p/project/coecschool22/goebbert1/miniconda3/etc/profile.d/conda.sh\n",
      "no change     /p/project/coecschool22/goebbert1/miniconda3/etc/fish/conf.d/conda.fish\n",
      "no change     /p/project/coecschool22/goebbert1/miniconda3/shell/condabin/Conda.psm1\n",
      "no change     /p/project/coecschool22/goebbert1/miniconda3/shell/condabin/conda-hook.ps1\n",
      "no change     /p/project/coecschool22/goebbert1/miniconda3/lib/python3.9/site-packages/xontrib/conda.xsh\n",
      "no change     /p/project/coecschool22/goebbert1/miniconda3/etc/profile.d/conda.csh\n",
      "modified      /p/project/ccstvs/goebbert1/home_juwels/.bashrc\n",
      "\n",
      "==> For changes to take effect, close and re-open your current shell. <==\n",
      "\n"
     ]
    }
   ],
   "source": [
    "${CONDA_TARGET_DIR}/bin/conda init bash"
   ]
  },
  {
   "cell_type": "markdown",
   "id": "furnished-infrared",
   "metadata": {},
   "source": [
    "**ATTENTION:** Conda modifies $HOME/.bashrc\n",
    "\n",
    "```bash\n",
    "# >>> conda initialize >>>\n",
    "# !! Contents within this block are managed by 'conda init' !!\n",
    "__conda_setup=\"$('/home/jovyan/miniconda3/bin/conda' 'shell.bash' 'hook' 2> /dev/null)\"\n",
    "if [ $? -eq 0 ]; then\n",
    "    eval \"$__conda_setup\"\n",
    "else\n",
    "    if [ -f \"/home/jovyan/miniconda3/etc/profile.d/conda.sh\" ]; then\n",
    "        . \"/home/jovyan/miniconda3/etc/profile.d/conda.sh\"\n",
    "    else\n",
    "        export PATH=\"/home/jovyan/miniconda3/bin:$PATH\"\n",
    "    fi\n",
    "fi\n",
    "unset __conda_setup\n",
    "# <<< conda initialize <<<\n",
    "```"
   ]
  },
  {
   "cell_type": "markdown",
   "id": "textile-vacation",
   "metadata": {},
   "source": [
    "* 1.4 - Disable automatic activation"
   ]
  },
  {
   "cell_type": "code",
   "execution_count": 9,
   "id": "proved-version",
   "metadata": {},
   "outputs": [],
   "source": [
    "${CONDA_TARGET_DIR}/bin/conda config --set auto_activate_base false"
   ]
  },
  {
   "cell_type": "markdown",
   "id": "surprised-carolina",
   "metadata": {},
   "source": [
    "---\n",
    "## 2. Create conda environment with JupyterLab 3 installed"
   ]
  },
  {
   "cell_type": "markdown",
   "id": "offensive-crack",
   "metadata": {},
   "source": [
    "Create new conda environment. The following steps can be repeated if multiple environments should be created. If the Python version differ towards the external Python version, a mix of Conda modules and external modules will not be possible"
   ]
  },
  {
   "cell_type": "code",
   "execution_count": 10,
   "id": "central-rebecca",
   "metadata": {},
   "outputs": [
    {
     "name": "stdout",
     "output_type": "stream",
     "text": [
      "Collecting package metadata (current_repodata.json): done\n",
      "Solving environment: done\n",
      "\n",
      "## Package Plan ##\n",
      "\n",
      "  environment location: /p/project/coecschool22/goebbert1/miniconda3/envs/my_jupyterlab3\n",
      "\n",
      "  added / updated specs:\n",
      "    - ipywidgets\n",
      "    - jupyterlab=3\n",
      "    - matplotlib\n",
      "    - nodejs\n",
      "    - pandas=0.24\n",
      "    - pip\n",
      "\n",
      "\n",
      "The following packages will be downloaded:\n",
      "\n",
      "    package                    |            build\n",
      "    ---------------------------|-----------------\n",
      "    _libgcc_mutex-0.1          |      conda_forge           3 KB  conda-forge\n",
      "    _openmp_mutex-4.5          |            2_gnu          23 KB  conda-forge\n",
      "    anyio-3.6.2                |     pyhd8ed1ab_0          83 KB  conda-forge\n",
      "    argon2-cffi-21.3.0         |     pyhd8ed1ab_0          15 KB  conda-forge\n",
      "    argon2-cffi-bindings-21.2.0|   py38h0a891b7_2          34 KB  conda-forge\n",
      "    asttokens-2.0.8            |     pyhd8ed1ab_0          24 KB  conda-forge\n",
      "    attrs-22.1.0               |     pyh71513ae_1          48 KB  conda-forge\n",
      "    babel-2.10.3               |     pyhd8ed1ab_0         6.7 MB  conda-forge\n",
      "    backcall-0.2.0             |     pyh9f0ad1d_0          13 KB  conda-forge\n",
      "    backports-1.0              |             py_2           4 KB  conda-forge\n",
      "    backports.functools_lru_cache-1.6.4|     pyhd8ed1ab_0           9 KB  conda-forge\n",
      "    beautifulsoup4-4.11.1      |     pyha770c72_0          96 KB  conda-forge\n",
      "    bleach-5.0.1               |     pyhd8ed1ab_0         124 KB  conda-forge\n",
      "    brotlipy-0.7.0             |py38h0a891b7_1004         342 KB  conda-forge\n",
      "    bzip2-1.0.8                |       h7f98852_4         484 KB  conda-forge\n",
      "    ca-certificates-2022.9.24  |       ha878542_0         150 KB  conda-forge\n",
      "    certifi-2022.9.24          |     pyhd8ed1ab_0         155 KB  conda-forge\n",
      "    cffi-1.15.1                |   py38h4a40e3a_1         229 KB  conda-forge\n",
      "    charset-normalizer-2.1.1   |     pyhd8ed1ab_0          36 KB  conda-forge\n",
      "    cryptography-38.0.2        |   py38h80a4ca7_1         1.6 MB  conda-forge\n",
      "    cycler-0.11.0              |     pyhd8ed1ab_0          10 KB  conda-forge\n",
      "    debugpy-1.6.3              |   py38hfa26641_0         2.0 MB  conda-forge\n",
      "    decorator-5.1.1            |     pyhd8ed1ab_0          12 KB  conda-forge\n",
      "    defusedxml-0.7.1           |     pyhd8ed1ab_0          23 KB  conda-forge\n",
      "    entrypoints-0.4            |     pyhd8ed1ab_0           9 KB  conda-forge\n",
      "    executing-1.1.1            |     pyhd8ed1ab_0          23 KB  conda-forge\n",
      "    flit-core-3.7.1            |     pyhd8ed1ab_0          44 KB  conda-forge\n",
      "    freetype-2.12.1            |       hca18f0e_0         884 KB  conda-forge\n",
      "    icu-67.1                   |       he1b5a44_0        12.9 MB  conda-forge\n",
      "    idna-3.4                   |     pyhd8ed1ab_0          55 KB  conda-forge\n",
      "    importlib-metadata-4.11.4  |   py38h578d9bd_0          33 KB  conda-forge\n",
      "    importlib_resources-5.10.0 |     pyhd8ed1ab_0          29 KB  conda-forge\n",
      "    ipykernel-6.16.1           |     pyh210e3f2_0         100 KB  conda-forge\n",
      "    ipython-8.5.0              |     pyh41d4057_1         552 KB  conda-forge\n",
      "    ipython_genutils-0.2.0     |             py_1          21 KB  conda-forge\n",
      "    ipywidgets-8.0.2           |     pyhd8ed1ab_1         109 KB  conda-forge\n",
      "    jedi-0.18.1                |     pyhd8ed1ab_2         799 KB  conda-forge\n",
      "    jinja2-3.1.2               |     pyhd8ed1ab_1          99 KB  conda-forge\n",
      "    json5-0.9.5                |     pyh9f0ad1d_0          20 KB  conda-forge\n",
      "    jsonschema-4.16.0          |     pyhd8ed1ab_0          65 KB  conda-forge\n",
      "    jupyter_client-7.4.3       |     pyhd8ed1ab_0          91 KB  conda-forge\n",
      "    jupyter_core-4.11.1        |   py38h578d9bd_0          81 KB  conda-forge\n",
      "    jupyter_server-1.21.0      |     pyhd8ed1ab_0         239 KB  conda-forge\n",
      "    jupyterlab-3.5.0           |     pyhd8ed1ab_0         6.0 MB  conda-forge\n",
      "    jupyterlab_pygments-0.2.2  |     pyhd8ed1ab_0          17 KB  conda-forge\n",
      "    jupyterlab_server-2.16.1   |     pyhd8ed1ab_0          49 KB  conda-forge\n",
      "    jupyterlab_widgets-3.0.3   |     pyhd8ed1ab_0         222 KB  conda-forge\n",
      "    kiwisolver-1.4.4           |   py38h43d8883_0          76 KB  conda-forge\n",
      "    ld_impl_linux-64-2.39      |       hc81fddc_0         759 KB  conda-forge\n",
      "    libblas-3.9.0              |16_linux64_openblas          13 KB  conda-forge\n",
      "    libcblas-3.9.0             |16_linux64_openblas          13 KB  conda-forge\n",
      "    libffi-3.4.2               |       h7f98852_5          57 KB  conda-forge\n",
      "    libgcc-7.2.0               |       h69d50b8_2         304 KB  conda-forge\n",
      "    libgcc-ng-12.2.0           |      h65d4601_19         931 KB  conda-forge\n",
      "    libgfortran-ng-12.2.0      |      h69a702a_19          22 KB  conda-forge\n",
      "    libgfortran5-12.2.0        |      h337968e_19         1.8 MB  conda-forge\n",
      "    libgomp-12.2.0             |      h65d4601_19         455 KB  conda-forge\n",
      "    liblapack-3.9.0            |16_linux64_openblas          13 KB  conda-forge\n",
      "    libnsl-2.0.0               |       h7f98852_0          31 KB  conda-forge\n",
      "    libopenblas-0.3.21         |pthreads_h78a6416_3        10.1 MB  conda-forge\n",
      "    libpng-1.6.38              |       h753d276_0         371 KB  conda-forge\n",
      "    libsodium-1.0.18           |       h36c2ea0_1         366 KB  conda-forge\n",
      "    libsqlite-3.39.4           |       h753d276_0         803 KB  conda-forge\n",
      "    libstdcxx-ng-12.2.0        |      h46fd767_19         4.3 MB  conda-forge\n",
      "    libuuid-2.32.1             |    h7f98852_1000          28 KB  conda-forge\n",
      "    libzlib-1.2.13             |       h166bdaf_4          64 KB  conda-forge\n",
      "    markupsafe-2.1.1           |   py38h0a891b7_1          22 KB  conda-forge\n",
      "    matplotlib-3.2.2           |                1           6 KB  conda-forge\n",
      "    matplotlib-base-3.2.2      |   py38h5d868c9_1         7.1 MB  conda-forge\n",
      "    matplotlib-inline-0.1.6    |     pyhd8ed1ab_0          12 KB  conda-forge\n",
      "    mistune-2.0.4              |     pyhd8ed1ab_0          67 KB  conda-forge\n",
      "    nbclassic-0.4.5            |     pyhd8ed1ab_0         7.7 MB  conda-forge\n",
      "    nbclient-0.7.0             |     pyhd8ed1ab_0          65 KB  conda-forge\n",
      "    nbconvert-7.2.2            |     pyhd8ed1ab_0           6 KB  conda-forge\n",
      "    nbconvert-core-7.2.2       |     pyhd8ed1ab_0         189 KB  conda-forge\n",
      "    nbconvert-pandoc-7.2.2     |     pyhd8ed1ab_0           5 KB  conda-forge\n",
      "    nbformat-5.7.0             |     pyhd8ed1ab_0         106 KB  conda-forge\n",
      "    ncurses-6.3                |       h27087fc_1        1002 KB  conda-forge\n",
      "    nest-asyncio-1.5.6         |     pyhd8ed1ab_0          10 KB  conda-forge\n",
      "    nodejs-6.13.1              |                0        11.9 MB  conda-forge\n",
      "    notebook-6.5.1             |     pyha770c72_0         266 KB  conda-forge\n",
      "    notebook-shim-0.2.0        |     pyhd8ed1ab_0          15 KB  conda-forge\n",
      "    numpy-1.23.4               |   py38h7042d01_0         7.1 MB  conda-forge\n",
      "    openssl-3.0.5              |       h166bdaf_2         2.8 MB  conda-forge\n",
      "    packaging-21.3             |     pyhd8ed1ab_0          36 KB  conda-forge\n",
      "    pandas-0.24.2              |   py38hb3f55d8_1        11.5 MB  conda-forge\n",
      "    pandoc-2.19.2              |       h32600fe_1        30.0 MB  conda-forge\n",
      "    pandocfilters-1.5.0        |     pyhd8ed1ab_0          11 KB  conda-forge\n",
      "    parso-0.8.3                |     pyhd8ed1ab_0          69 KB  conda-forge\n",
      "    pexpect-4.8.0              |     pyh9f0ad1d_2          47 KB  conda-forge\n",
      "    pickleshare-0.7.5          |          py_1003           9 KB  conda-forge\n",
      "    pip-22.3                   |     pyhd8ed1ab_0         1.5 MB  conda-forge\n",
      "    pkgutil-resolve-name-1.3.10|     pyhd8ed1ab_0           9 KB  conda-forge\n",
      "    prometheus_client-0.15.0   |     pyhd8ed1ab_0          50 KB  conda-forge\n",
      "    prompt-toolkit-3.0.31      |     pyha770c72_0         254 KB  conda-forge\n",
      "    psutil-5.9.3               |   py38h0a891b7_0         348 KB  conda-forge\n",
      "    ptyprocess-0.7.0           |     pyhd3deb0d_0          16 KB  conda-forge\n",
      "    pure_eval-0.2.2            |     pyhd8ed1ab_0          14 KB  conda-forge\n",
      "    pycparser-2.21             |     pyhd8ed1ab_0         100 KB  conda-forge\n",
      "    pygments-2.13.0            |     pyhd8ed1ab_0         821 KB  conda-forge\n",
      "    pyopenssl-22.1.0           |     pyhd8ed1ab_0         122 KB  conda-forge\n",
      "    pyparsing-3.0.9            |     pyhd8ed1ab_0          79 KB  conda-forge\n",
      "    pyrsistent-0.18.1          |   py38h0a891b7_1          92 KB  conda-forge\n",
      "    pysocks-1.7.1              |     pyha2e5f31_6          19 KB  conda-forge\n",
      "    python-3.8.13              |ha86cf86_0_cpython        25.2 MB  conda-forge\n",
      "    python-dateutil-2.8.2      |     pyhd8ed1ab_0         240 KB  conda-forge\n",
      "    python-fastjsonschema-2.16.2|     pyhd8ed1ab_0         242 KB  conda-forge\n",
      "    python_abi-3.8             |           2_cp38           4 KB  conda-forge\n",
      "    pytz-2022.5                |     pyhd8ed1ab_0         238 KB  conda-forge\n",
      "    pyzmq-24.0.1               |   py38hfc09fa9_0         508 KB  conda-forge\n",
      "    readline-8.1.2             |       h0f457ee_0         291 KB  conda-forge\n",
      "    requests-2.28.1            |     pyhd8ed1ab_1          53 KB  conda-forge\n",
      "    send2trash-1.8.0           |     pyhd8ed1ab_0          17 KB  conda-forge\n",
      "    setuptools-59.8.0          |   py38h578d9bd_1        1017 KB  conda-forge\n",
      "    six-1.16.0                 |     pyh6c4a22f_0          14 KB  conda-forge\n",
      "    sniffio-1.3.0              |     pyhd8ed1ab_0          14 KB  conda-forge\n",
      "    soupsieve-2.3.2.post1      |     pyhd8ed1ab_0          34 KB  conda-forge\n",
      "    sqlite-3.39.4              |       h4ff8645_0         789 KB  conda-forge\n",
      "    stack_data-0.5.1           |     pyhd8ed1ab_0          24 KB  conda-forge\n",
      "    terminado-0.16.0           |     pyh41d4057_0          18 KB  conda-forge\n",
      "    tinycss2-1.2.1             |     pyhd8ed1ab_0          23 KB  conda-forge\n",
      "    tk-8.6.12                  |       h27826a3_0         3.3 MB  conda-forge\n",
      "    tomli-2.0.1                |     pyhd8ed1ab_0          16 KB  conda-forge\n",
      "    tornado-6.2                |   py38h0a891b7_0         653 KB  conda-forge\n",
      "    traitlets-5.5.0            |     pyhd8ed1ab_0          85 KB  conda-forge\n",
      "    typing_extensions-4.4.0    |     pyha770c72_0          29 KB  conda-forge\n",
      "    urllib3-1.26.11            |     pyhd8ed1ab_0         102 KB  conda-forge\n",
      "    wcwidth-0.2.5              |     pyh9f0ad1d_2          33 KB  conda-forge\n",
      "    webencodings-0.5.1         |             py_1          12 KB  conda-forge\n",
      "    websocket-client-1.4.1     |     pyhd8ed1ab_0          42 KB  conda-forge\n",
      "    wheel-0.37.1               |     pyhd8ed1ab_0          31 KB  conda-forge\n",
      "    widgetsnbextension-4.0.3   |     pyhd8ed1ab_0         1.6 MB  conda-forge\n",
      "    xz-5.2.6                   |       h166bdaf_0         409 KB  conda-forge\n",
      "    zeromq-4.3.4               |       h9c3ff4c_1         351 KB  conda-forge\n",
      "    zipp-3.9.0                 |     pyhd8ed1ab_0          13 KB  conda-forge\n",
      "    ------------------------------------------------------------\n",
      "                                           Total:       173.3 MB\n",
      "\n",
      "The following NEW packages will be INSTALLED:\n",
      "\n",
      "  _libgcc_mutex      conda-forge/linux-64::_libgcc_mutex-0.1-conda_forge\n",
      "  _openmp_mutex      conda-forge/linux-64::_openmp_mutex-4.5-2_gnu\n",
      "  anyio              conda-forge/noarch::anyio-3.6.2-pyhd8ed1ab_0\n",
      "  argon2-cffi        conda-forge/noarch::argon2-cffi-21.3.0-pyhd8ed1ab_0\n",
      "  argon2-cffi-bindi~ conda-forge/linux-64::argon2-cffi-bindings-21.2.0-py38h0a891b7_2\n",
      "  asttokens          conda-forge/noarch::asttokens-2.0.8-pyhd8ed1ab_0\n",
      "  attrs              conda-forge/noarch::attrs-22.1.0-pyh71513ae_1\n",
      "  babel              conda-forge/noarch::babel-2.10.3-pyhd8ed1ab_0\n",
      "  backcall           conda-forge/noarch::backcall-0.2.0-pyh9f0ad1d_0\n",
      "  backports          conda-forge/noarch::backports-1.0-py_2\n",
      "  backports.functoo~ conda-forge/noarch::backports.functools_lru_cache-1.6.4-pyhd8ed1ab_0\n",
      "  beautifulsoup4     conda-forge/noarch::beautifulsoup4-4.11.1-pyha770c72_0\n",
      "  bleach             conda-forge/noarch::bleach-5.0.1-pyhd8ed1ab_0\n",
      "  brotlipy           conda-forge/linux-64::brotlipy-0.7.0-py38h0a891b7_1004\n",
      "  bzip2              conda-forge/linux-64::bzip2-1.0.8-h7f98852_4\n",
      "  ca-certificates    conda-forge/linux-64::ca-certificates-2022.9.24-ha878542_0\n",
      "  certifi            conda-forge/noarch::certifi-2022.9.24-pyhd8ed1ab_0\n",
      "  cffi               conda-forge/linux-64::cffi-1.15.1-py38h4a40e3a_1\n",
      "  charset-normalizer conda-forge/noarch::charset-normalizer-2.1.1-pyhd8ed1ab_0\n",
      "  cryptography       conda-forge/linux-64::cryptography-38.0.2-py38h80a4ca7_1\n",
      "  cycler             conda-forge/noarch::cycler-0.11.0-pyhd8ed1ab_0\n",
      "  debugpy            conda-forge/linux-64::debugpy-1.6.3-py38hfa26641_0\n",
      "  decorator          conda-forge/noarch::decorator-5.1.1-pyhd8ed1ab_0\n",
      "  defusedxml         conda-forge/noarch::defusedxml-0.7.1-pyhd8ed1ab_0\n",
      "  entrypoints        conda-forge/noarch::entrypoints-0.4-pyhd8ed1ab_0\n",
      "  executing          conda-forge/noarch::executing-1.1.1-pyhd8ed1ab_0\n",
      "  flit-core          conda-forge/noarch::flit-core-3.7.1-pyhd8ed1ab_0\n",
      "  freetype           conda-forge/linux-64::freetype-2.12.1-hca18f0e_0\n",
      "  icu                conda-forge/linux-64::icu-67.1-he1b5a44_0\n",
      "  idna               conda-forge/noarch::idna-3.4-pyhd8ed1ab_0\n",
      "  importlib-metadata conda-forge/linux-64::importlib-metadata-4.11.4-py38h578d9bd_0\n",
      "  importlib_resourc~ conda-forge/noarch::importlib_resources-5.10.0-pyhd8ed1ab_0\n",
      "  ipykernel          conda-forge/noarch::ipykernel-6.16.1-pyh210e3f2_0\n",
      "  ipython            conda-forge/noarch::ipython-8.5.0-pyh41d4057_1\n",
      "  ipython_genutils   conda-forge/noarch::ipython_genutils-0.2.0-py_1\n",
      "  ipywidgets         conda-forge/noarch::ipywidgets-8.0.2-pyhd8ed1ab_1\n",
      "  jedi               conda-forge/noarch::jedi-0.18.1-pyhd8ed1ab_2\n",
      "  jinja2             conda-forge/noarch::jinja2-3.1.2-pyhd8ed1ab_1\n",
      "  json5              conda-forge/noarch::json5-0.9.5-pyh9f0ad1d_0\n",
      "  jsonschema         conda-forge/noarch::jsonschema-4.16.0-pyhd8ed1ab_0\n",
      "  jupyter_client     conda-forge/noarch::jupyter_client-7.4.3-pyhd8ed1ab_0\n",
      "  jupyter_core       conda-forge/linux-64::jupyter_core-4.11.1-py38h578d9bd_0\n",
      "  jupyter_server     conda-forge/noarch::jupyter_server-1.21.0-pyhd8ed1ab_0\n",
      "  jupyterlab         conda-forge/noarch::jupyterlab-3.5.0-pyhd8ed1ab_0\n",
      "  jupyterlab_pygmen~ conda-forge/noarch::jupyterlab_pygments-0.2.2-pyhd8ed1ab_0\n",
      "  jupyterlab_server  conda-forge/noarch::jupyterlab_server-2.16.1-pyhd8ed1ab_0\n",
      "  jupyterlab_widgets conda-forge/noarch::jupyterlab_widgets-3.0.3-pyhd8ed1ab_0\n",
      "  kiwisolver         conda-forge/linux-64::kiwisolver-1.4.4-py38h43d8883_0\n",
      "  ld_impl_linux-64   conda-forge/linux-64::ld_impl_linux-64-2.39-hc81fddc_0\n",
      "  libblas            conda-forge/linux-64::libblas-3.9.0-16_linux64_openblas\n",
      "  libcblas           conda-forge/linux-64::libcblas-3.9.0-16_linux64_openblas\n",
      "  libffi             conda-forge/linux-64::libffi-3.4.2-h7f98852_5\n",
      "  libgcc             conda-forge/linux-64::libgcc-7.2.0-h69d50b8_2\n",
      "  libgcc-ng          conda-forge/linux-64::libgcc-ng-12.2.0-h65d4601_19\n",
      "  libgfortran-ng     conda-forge/linux-64::libgfortran-ng-12.2.0-h69a702a_19\n",
      "  libgfortran5       conda-forge/linux-64::libgfortran5-12.2.0-h337968e_19\n",
      "  libgomp            conda-forge/linux-64::libgomp-12.2.0-h65d4601_19\n",
      "  liblapack          conda-forge/linux-64::liblapack-3.9.0-16_linux64_openblas\n",
      "  libnsl             conda-forge/linux-64::libnsl-2.0.0-h7f98852_0\n",
      "  libopenblas        conda-forge/linux-64::libopenblas-0.3.21-pthreads_h78a6416_3\n",
      "  libpng             conda-forge/linux-64::libpng-1.6.38-h753d276_0\n",
      "  libsodium          conda-forge/linux-64::libsodium-1.0.18-h36c2ea0_1\n",
      "  libsqlite          conda-forge/linux-64::libsqlite-3.39.4-h753d276_0\n",
      "  libstdcxx-ng       conda-forge/linux-64::libstdcxx-ng-12.2.0-h46fd767_19\n",
      "  libuuid            conda-forge/linux-64::libuuid-2.32.1-h7f98852_1000\n",
      "  libzlib            conda-forge/linux-64::libzlib-1.2.13-h166bdaf_4\n",
      "  markupsafe         conda-forge/linux-64::markupsafe-2.1.1-py38h0a891b7_1\n",
      "  matplotlib         conda-forge/linux-64::matplotlib-3.2.2-1\n",
      "  matplotlib-base    conda-forge/linux-64::matplotlib-base-3.2.2-py38h5d868c9_1\n",
      "  matplotlib-inline  conda-forge/noarch::matplotlib-inline-0.1.6-pyhd8ed1ab_0\n",
      "  mistune            conda-forge/noarch::mistune-2.0.4-pyhd8ed1ab_0\n",
      "  nbclassic          conda-forge/noarch::nbclassic-0.4.5-pyhd8ed1ab_0\n",
      "  nbclient           conda-forge/noarch::nbclient-0.7.0-pyhd8ed1ab_0\n",
      "  nbconvert          conda-forge/noarch::nbconvert-7.2.2-pyhd8ed1ab_0\n",
      "  nbconvert-core     conda-forge/noarch::nbconvert-core-7.2.2-pyhd8ed1ab_0\n",
      "  nbconvert-pandoc   conda-forge/noarch::nbconvert-pandoc-7.2.2-pyhd8ed1ab_0\n",
      "  nbformat           conda-forge/noarch::nbformat-5.7.0-pyhd8ed1ab_0\n",
      "  ncurses            conda-forge/linux-64::ncurses-6.3-h27087fc_1\n",
      "  nest-asyncio       conda-forge/noarch::nest-asyncio-1.5.6-pyhd8ed1ab_0\n",
      "  nodejs             conda-forge/linux-64::nodejs-6.13.1-0\n",
      "  notebook           conda-forge/noarch::notebook-6.5.1-pyha770c72_0\n",
      "  notebook-shim      conda-forge/noarch::notebook-shim-0.2.0-pyhd8ed1ab_0\n",
      "  numpy              conda-forge/linux-64::numpy-1.23.4-py38h7042d01_0\n",
      "  openssl            conda-forge/linux-64::openssl-3.0.5-h166bdaf_2\n",
      "  packaging          conda-forge/noarch::packaging-21.3-pyhd8ed1ab_0\n",
      "  pandas             conda-forge/linux-64::pandas-0.24.2-py38hb3f55d8_1\n",
      "  pandoc             conda-forge/linux-64::pandoc-2.19.2-h32600fe_1\n",
      "  pandocfilters      conda-forge/noarch::pandocfilters-1.5.0-pyhd8ed1ab_0\n",
      "  parso              conda-forge/noarch::parso-0.8.3-pyhd8ed1ab_0\n",
      "  pexpect            conda-forge/noarch::pexpect-4.8.0-pyh9f0ad1d_2\n",
      "  pickleshare        conda-forge/noarch::pickleshare-0.7.5-py_1003\n",
      "  pip                conda-forge/noarch::pip-22.3-pyhd8ed1ab_0\n",
      "  pkgutil-resolve-n~ conda-forge/noarch::pkgutil-resolve-name-1.3.10-pyhd8ed1ab_0\n",
      "  prometheus_client  conda-forge/noarch::prometheus_client-0.15.0-pyhd8ed1ab_0\n",
      "  prompt-toolkit     conda-forge/noarch::prompt-toolkit-3.0.31-pyha770c72_0\n",
      "  psutil             conda-forge/linux-64::psutil-5.9.3-py38h0a891b7_0\n",
      "  ptyprocess         conda-forge/noarch::ptyprocess-0.7.0-pyhd3deb0d_0\n",
      "  pure_eval          conda-forge/noarch::pure_eval-0.2.2-pyhd8ed1ab_0\n",
      "  pycparser          conda-forge/noarch::pycparser-2.21-pyhd8ed1ab_0\n",
      "  pygments           conda-forge/noarch::pygments-2.13.0-pyhd8ed1ab_0\n",
      "  pyopenssl          conda-forge/noarch::pyopenssl-22.1.0-pyhd8ed1ab_0\n",
      "  pyparsing          conda-forge/noarch::pyparsing-3.0.9-pyhd8ed1ab_0\n",
      "  pyrsistent         conda-forge/linux-64::pyrsistent-0.18.1-py38h0a891b7_1\n",
      "  pysocks            conda-forge/noarch::pysocks-1.7.1-pyha2e5f31_6\n",
      "  python             conda-forge/linux-64::python-3.8.13-ha86cf86_0_cpython\n",
      "  python-dateutil    conda-forge/noarch::python-dateutil-2.8.2-pyhd8ed1ab_0\n",
      "  python-fastjsonsc~ conda-forge/noarch::python-fastjsonschema-2.16.2-pyhd8ed1ab_0\n",
      "  python_abi         conda-forge/linux-64::python_abi-3.8-2_cp38\n",
      "  pytz               conda-forge/noarch::pytz-2022.5-pyhd8ed1ab_0\n",
      "  pyzmq              conda-forge/linux-64::pyzmq-24.0.1-py38hfc09fa9_0\n",
      "  readline           conda-forge/linux-64::readline-8.1.2-h0f457ee_0\n",
      "  requests           conda-forge/noarch::requests-2.28.1-pyhd8ed1ab_1\n",
      "  send2trash         conda-forge/noarch::send2trash-1.8.0-pyhd8ed1ab_0\n",
      "  setuptools         conda-forge/linux-64::setuptools-59.8.0-py38h578d9bd_1\n",
      "  six                conda-forge/noarch::six-1.16.0-pyh6c4a22f_0\n",
      "  sniffio            conda-forge/noarch::sniffio-1.3.0-pyhd8ed1ab_0\n",
      "  soupsieve          conda-forge/noarch::soupsieve-2.3.2.post1-pyhd8ed1ab_0\n",
      "  sqlite             conda-forge/linux-64::sqlite-3.39.4-h4ff8645_0\n",
      "  stack_data         conda-forge/noarch::stack_data-0.5.1-pyhd8ed1ab_0\n",
      "  terminado          conda-forge/noarch::terminado-0.16.0-pyh41d4057_0\n",
      "  tinycss2           conda-forge/noarch::tinycss2-1.2.1-pyhd8ed1ab_0\n",
      "  tk                 conda-forge/linux-64::tk-8.6.12-h27826a3_0\n",
      "  tomli              conda-forge/noarch::tomli-2.0.1-pyhd8ed1ab_0\n",
      "  tornado            conda-forge/linux-64::tornado-6.2-py38h0a891b7_0\n",
      "  traitlets          conda-forge/noarch::traitlets-5.5.0-pyhd8ed1ab_0\n",
      "  typing_extensions  conda-forge/noarch::typing_extensions-4.4.0-pyha770c72_0\n",
      "  urllib3            conda-forge/noarch::urllib3-1.26.11-pyhd8ed1ab_0\n",
      "  wcwidth            conda-forge/noarch::wcwidth-0.2.5-pyh9f0ad1d_2\n",
      "  webencodings       conda-forge/noarch::webencodings-0.5.1-py_1\n",
      "  websocket-client   conda-forge/noarch::websocket-client-1.4.1-pyhd8ed1ab_0\n",
      "  wheel              conda-forge/noarch::wheel-0.37.1-pyhd8ed1ab_0\n",
      "  widgetsnbextension conda-forge/noarch::widgetsnbextension-4.0.3-pyhd8ed1ab_0\n",
      "  xz                 conda-forge/linux-64::xz-5.2.6-h166bdaf_0\n",
      "  zeromq             conda-forge/linux-64::zeromq-4.3.4-h9c3ff4c_1\n",
      "  zipp               conda-forge/noarch::zipp-3.9.0-pyhd8ed1ab_0\n",
      "\n",
      "\n",
      "\n",
      "Downloading and Extracting Packages\n",
      "_openmp_mutex-4.5    | 23 KB     | ##################################### | 100% \n",
      "pkgutil-resolve-name | 9 KB      | ##################################### | 100% \n",
      "traitlets-5.5.0      | 85 KB     | ##################################### | 100% \n",
      "ptyprocess-0.7.0     | 16 KB     | ##################################### | 100% \n",
      "libgomp-12.2.0       | 455 KB    | ##################################### | 100% \n",
      "cffi-1.15.1          | 229 KB    | ##################################### | 100% \n",
      "argon2-cffi-bindings | 34 KB     | ##################################### | 100% \n",
      "bzip2-1.0.8          | 484 KB    | ##################################### | 100% \n",
      "jupyter_core-4.11.1  | 81 KB     | ##################################### | 100% \n",
      "nbclassic-0.4.5      | 7.7 MB    | ##################################### | 100% \n",
      "backcall-0.2.0       | 13 KB     | ##################################### | 100% \n",
      "sqlite-3.39.4        | 789 KB    | ##################################### | 100% \n",
      "urllib3-1.26.11      | 102 KB    | ##################################### | 100% \n",
      "ipython-8.5.0        | 552 KB    | ##################################### | 100% \n",
      "jedi-0.18.1          | 799 KB    | ##################################### | 100% \n",
      "_libgcc_mutex-0.1    | 3 KB      | ##################################### | 100% \n",
      "matplotlib-inline-0. | 12 KB     | ##################################### | 100% \n",
      "icu-67.1             | 12.9 MB   | ##################################### | 100% \n",
      "python-fastjsonschem | 242 KB    | ##################################### | 100% \n",
      "tomli-2.0.1          | 16 KB     | ##################################### | 100% \n",
      "pyparsing-3.0.9      | 79 KB     | ##################################### | 100% \n",
      "libgfortran-ng-12.2. | 22 KB     | ##################################### | 100% \n",
      "executing-1.1.1      | 23 KB     | ##################################### | 100% \n",
      "liblapack-3.9.0      | 13 KB     | ##################################### | 100% \n",
      "pytz-2022.5          | 238 KB    | ##################################### | 100% \n",
      "libnsl-2.0.0         | 31 KB     | ##################################### | 100% \n",
      "pandoc-2.19.2        | 30.0 MB   | ##################################### | 100% \n",
      "wheel-0.37.1         | 31 KB     | ##################################### | 100% \n",
      "jsonschema-4.16.0    | 65 KB     | ##################################### | 100% \n",
      "importlib-metadata-4 | 33 KB     | ##################################### | 100% \n",
      "python_abi-3.8       | 4 KB      | ##################################### | 100% \n",
      "python-3.8.13        | 25.2 MB   | ##################################### | 100% \n",
      "ncurses-6.3          | 1002 KB   | ##################################### | 100% \n",
      "ipython_genutils-0.2 | 21 KB     | ##################################### | 100% \n",
      "zipp-3.9.0           | 13 KB     | ##################################### | 100% \n",
      "asttokens-2.0.8      | 24 KB     | ##################################### | 100% \n",
      "libsodium-1.0.18     | 366 KB    | ##################################### | 100% \n",
      "jinja2-3.1.2         | 99 KB     | ##################################### | 100% \n",
      "prometheus_client-0. | 50 KB     | ##################################### | 100% \n",
      "send2trash-1.8.0     | 17 KB     | ##################################### | 100% \n",
      "freetype-2.12.1      | 884 KB    | ##################################### | 100% \n",
      "readline-8.1.2       | 291 KB    | ##################################### | 100% \n",
      "terminado-0.16.0     | 18 KB     | ##################################### | 100% \n",
      "jupyterlab_pygments- | 17 KB     | ##################################### | 100% \n",
      "libsqlite-3.39.4     | 803 KB    | ##################################### | 100% \n",
      "libgfortran5-12.2.0  | 1.8 MB    | ##################################### | 100% \n",
      "defusedxml-0.7.1     | 23 KB     | ##################################### | 100% \n",
      "pyrsistent-0.18.1    | 92 KB     | ##################################### | 100% \n",
      "pandocfilters-1.5.0  | 11 KB     | ##################################### | 100% \n",
      "libzlib-1.2.13       | 64 KB     | ##################################### | 100% \n",
      "libblas-3.9.0        | 13 KB     | ##################################### | 100% \n",
      "anyio-3.6.2          | 83 KB     | ##################################### | 100% \n",
      "nbformat-5.7.0       | 106 KB    | ##################################### | 100% \n",
      "nbconvert-7.2.2      | 6 KB      | ##################################### | 100% \n",
      "libffi-3.4.2         | 57 KB     | ##################################### | 100% \n",
      "jupyterlab-3.5.0     | 6.0 MB    | ##################################### | 100% \n",
      "psutil-5.9.3         | 348 KB    | ##################################### | 100% \n",
      "pexpect-4.8.0        | 47 KB     | ##################################### | 100% \n",
      "nest-asyncio-1.5.6   | 10 KB     | ##################################### | 100% \n",
      "nbconvert-core-7.2.2 | 189 KB    | ##################################### | 100% \n",
      "typing_extensions-4. | 29 KB     | ##################################### | 100% \n",
      "json5-0.9.5          | 20 KB     | ##################################### | 100% \n",
      "brotlipy-0.7.0       | 342 KB    | ##################################### | 100% \n",
      "mistune-2.0.4        | 67 KB     | ##################################### | 100% \n",
      "tk-8.6.12            | 3.3 MB    | ##################################### | 100% \n",
      "cryptography-38.0.2  | 1.6 MB    | ##################################### | 100% \n",
      "pickleshare-0.7.5    | 9 KB      | ##################################### | 100% \n",
      "widgetsnbextension-4 | 1.6 MB    | ##################################### | 100% \n",
      "beautifulsoup4-4.11. | 96 KB     | ##################################### | 100% \n",
      "libpng-1.6.38        | 371 KB    | ##################################### | 100% \n",
      "websocket-client-1.4 | 42 KB     | ##################################### | 100% \n",
      "matplotlib-3.2.2     | 6 KB      | ##################################### | 100% \n",
      "tinycss2-1.2.1       | 23 KB     | ##################################### | 100% \n",
      "ipykernel-6.16.1     | 100 KB    | ##################################### | 100% \n",
      "setuptools-59.8.0    | 1017 KB   | ##################################### | 100% \n",
      "libcblas-3.9.0       | 13 KB     | ##################################### | 100% \n",
      "pandas-0.24.2        | 11.5 MB   | ##################################### | 100% \n",
      "charset-normalizer-2 | 36 KB     | ##################################### | 100% \n",
      "libstdcxx-ng-12.2.0  | 4.3 MB    | ##################################### | 100% \n",
      "flit-core-3.7.1      | 44 KB     | ##################################### | 100% \n",
      "importlib_resources- | 29 KB     | ##################################### | 100% \n",
      "openssl-3.0.5        | 2.8 MB    | ##################################### | 100% \n",
      "jupyter_server-1.21. | 239 KB    | ##################################### | 100% \n",
      "libgcc-ng-12.2.0     | 931 KB    | ##################################### | 100% \n",
      "backports.functools_ | 9 KB      | ##################################### | 100% \n",
      "libopenblas-0.3.21   | 10.1 MB   | ##################################### | 100% \n",
      "attrs-22.1.0         | 48 KB     | ##################################### | 100% \n",
      "nbconvert-pandoc-7.2 | 5 KB      | ##################################### | 100% \n",
      "zeromq-4.3.4         | 351 KB    | ##################################### | 100% \n",
      "cycler-0.11.0        | 10 KB     | ##################################### | 100% \n",
      "pyzmq-24.0.1         | 508 KB    | ##################################### | 100% \n",
      "jupyterlab_server-2. | 49 KB     | ##################################### | 100% \n",
      "pycparser-2.21       | 100 KB    | ##################################### | 100% \n",
      "tornado-6.2          | 653 KB    | ##################################### | 100% \n",
      "python-dateutil-2.8. | 240 KB    | ##################################### | 100% \n",
      "packaging-21.3       | 36 KB     | ##################################### | 100% \n",
      "backports-1.0        | 4 KB      | ##################################### | 100% \n",
      "ipywidgets-8.0.2     | 109 KB    | ##################################### | 100% \n",
      "parso-0.8.3          | 69 KB     | ##################################### | 100% \n",
      "markupsafe-2.1.1     | 22 KB     | ##################################### | 100% \n",
      "bleach-5.0.1         | 124 KB    | ##################################### | 100% \n",
      "six-1.16.0           | 14 KB     | ##################################### | 100% \n",
      "notebook-shim-0.2.0  | 15 KB     | ##################################### | 100% \n",
      "wcwidth-0.2.5        | 33 KB     | ##################################### | 100% \n",
      "stack_data-0.5.1     | 24 KB     | ##################################### | 100% \n",
      "decorator-5.1.1      | 12 KB     | ##################################### | 100% \n",
      "libgcc-7.2.0         | 304 KB    | ##################################### | 100% \n",
      "matplotlib-base-3.2. | 7.1 MB    | ##################################### | 100% \n",
      "certifi-2022.9.24    | 155 KB    | ##################################### | 100% \n",
      "entrypoints-0.4      | 9 KB      | ##################################### | 100% \n",
      "notebook-6.5.1       | 266 KB    | ##################################### | 100% \n",
      "pure_eval-0.2.2      | 14 KB     | ##################################### | 100% \n",
      "numpy-1.23.4         | 7.1 MB    | ##################################### | 100% \n",
      "requests-2.28.1      | 53 KB     | ##################################### | 100% \n",
      "argon2-cffi-21.3.0   | 15 KB     | ##################################### | 100% \n",
      "jupyterlab_widgets-3 | 222 KB    | ##################################### | 100% \n",
      "nbclient-0.7.0       | 65 KB     | ##################################### | 100% \n",
      "nodejs-6.13.1        | 11.9 MB   | ##################################### | 100% \n",
      "pip-22.3             | 1.5 MB    | ##################################### | 100% \n",
      "xz-5.2.6             | 409 KB    | ##################################### | 100% \n",
      "pygments-2.13.0      | 821 KB    | ##################################### | 100% \n",
      "idna-3.4             | 55 KB     | ##################################### | 100% \n",
      "debugpy-1.6.3        | 2.0 MB    | ##################################### | 100% \n",
      "kiwisolver-1.4.4     | 76 KB     | ##################################### | 100% \n",
      "soupsieve-2.3.2.post | 34 KB     | ##################################### | 100% \n",
      "pysocks-1.7.1        | 19 KB     | ##################################### | 100% \n",
      "webencodings-0.5.1   | 12 KB     | ##################################### | 100% \n",
      "pyopenssl-22.1.0     | 122 KB    | ##################################### | 100% \n",
      "ld_impl_linux-64-2.3 | 759 KB    | ##################################### | 100% \n",
      "jupyter_client-7.4.3 | 91 KB     | ##################################### | 100% \n",
      "ca-certificates-2022 | 150 KB    | ##################################### | 100% \n",
      "sniffio-1.3.0        | 14 KB     | ##################################### | 100% \n",
      "babel-2.10.3         | 6.7 MB    | ##################################### | 100% \n",
      "libuuid-2.32.1       | 28 KB     | ##################################### | 100% \n",
      "prompt-toolkit-3.0.3 | 254 KB    | ##################################### | 100% \n",
      "Preparing transaction: done\n",
      "Verifying transaction: done\n",
      "Executing transaction: done\n",
      "#\n",
      "# To activate this environment, use\n",
      "#\n",
      "#     $ conda activate my_jupyterlab3\n",
      "#\n",
      "# To deactivate an active environment, use\n",
      "#\n",
      "#     $ conda deactivate\n",
      "\n"
     ]
    }
   ],
   "source": [
    "${CONDA_TARGET_DIR}/bin/conda create -n ${CONDA_ENV} --override-channels --strict-channel-priority -c conda-forge -c anaconda --yes jupyterlab=3 ipywidgets nodejs pip pandas=0.24 matplotlib"
   ]
  },
  {
   "cell_type": "markdown",
   "id": "measured-finance",
   "metadata": {},
   "source": [
    "----------------------------------------------------\n",
    "## 3. Activate Conda Environment"
   ]
  },
  {
   "cell_type": "code",
   "execution_count": 11,
   "id": "regional-haiti",
   "metadata": {},
   "outputs": [
    {
     "name": "stdout",
     "output_type": "stream",
     "text": [
      "/p/project/coecschool22/goebbert1/miniconda3\n",
      "my_jupyterlab3\n",
      "(my_jupyterlab3) (my_jupyterlab3) (my_jupyterlab3) (my_jupyterlab3) (my_jupyterlab3) \n",
      "(my_jupyterlab3) "
     ]
    },
    {
     "ename": "",
     "evalue": "1",
     "output_type": "error",
     "traceback": []
    }
   ],
   "source": [
    "# verify that PYTHONPATH only points to directories of packages\n",
    "# that are compatible with the Python interpreter in Miniconda3\n",
    "unset PYTHONPATH\n",
    "\n",
    "# just to show that jupyterlab starts\n",
    "# we have to ensure that the bash-kernel shell\n",
    "# does not have JUPYTER*- environment variables set from the running JupyterLab (which serves this notebook)\n",
    "unset JUPYTER_PATH\n",
    "unset JUPYTERLAB_DIR\n",
    "unset JUPYTER_DATA_DIR\n",
    "unset JUPYTER_CONFIG_PATH\n",
    "\n",
    "# Activate your Python virtual environment\n",
    "echo ${CONDA_TARGET_DIR}\n",
    "echo ${CONDA_ENV}\n",
    "source \"${CONDA_TARGET_DIR}\"/bin/activate \"${CONDA_ENV}\"\n",
    "    \n",
    "# Ensure python packages installed in conda are always prefered, not necessary if module purge is used\n",
    "#export PYTHONPATH=${CONDA_PREFIX}/lib/python3.6/site-packages:${PYTHONPATH}\n",
    "\n",
    "echo $PYTHONPATH"
   ]
  },
  {
   "cell_type": "code",
   "execution_count": 12,
   "id": "sticky-intensity",
   "metadata": {},
   "outputs": [
    {
     "name": "stdout",
     "output_type": "stream",
     "text": [
      "/p/project/coecschool22/goebbert1/miniconda3/envs/my_jupyterlab3/bin/jupyter\n",
      "(my_jupyterlab3) "
     ]
    },
    {
     "ename": "",
     "evalue": "1",
     "output_type": "error",
     "traceback": []
    }
   ],
   "source": [
    "which jupyter"
   ]
  },
  {
   "cell_type": "markdown",
   "id": "instrumental-virtue",
   "metadata": {},
   "source": [
    "---------\n",
    "## 4. Start the fresh installed JupyterLab from the Conda Environment"
   ]
  },
  {
   "cell_type": "code",
   "execution_count": null,
   "id": "proved-samoa",
   "metadata": {},
   "outputs": [
    {
     "name": "stdout",
     "output_type": "stream",
     "text": [
      "(my_jupyterlab3) [I 2022-10-24 23:49:58.128 ServerApp] jupyterlab | extension was successfully linked.\n",
      "[I 2022-10-24 23:49:58.137 ServerApp] nbclassic | extension was successfully linked.\n",
      "[I 2022-10-24 23:49:58.261 LabApp] JupyterLab extension loaded from /p/project/coecschool22/goebbert1/miniconda3/envs/my_jupyterlab3/lib/python3.8/site-packages/jupyterlab\n",
      "[I 2022-10-24 23:49:58.261 LabApp] JupyterLab application directory is /p/project/coecschool22/goebbert1/miniconda3/envs/my_jupyterlab3/share/jupyter/lab\n",
      "[I 2022-10-24 23:49:58.264 ServerApp] jupyterlab | extension was successfully loaded.\n",
      "[I 2022-10-24 23:49:58.268 ServerApp] nbclassic | extension was successfully loaded.\n",
      "[I 2022-10-24 23:49:58.268 ServerApp] Serving notebooks from local directory: /p/project/coecschool22/goebbert1/prace-2022.04-jupyter4hpc/day_2/5_my_own_jupyterlab\n",
      "[I 2022-10-24 23:49:58.268 ServerApp] Jupyter Server 1.21.0 is running at:\n",
      "[I 2022-10-24 23:49:58.268 ServerApp] http://localhost:8888/lab?token=8d055ad8360be4ae9aededca7b3771fd4fd3c94c29fef6c8\n",
      "[I 2022-10-24 23:49:58.268 ServerApp]  or http://127.0.0.1:8888/lab?token=8d055ad8360be4ae9aededca7b3771fd4fd3c94c29fef6c8\n",
      "[I 2022-10-24 23:49:58.268 ServerApp] Use Control-C to stop this server and shut down all kernels (twice to skip confirmation).\n",
      "[C 2022-10-24 23:49:58.802 ServerApp] \n",
      "    \n",
      "    To access the server, open this file in a browser:\n",
      "        file:///p/project/ccstvs/goebbert1/home_juwels/.local/share/jupyter/runtime/jpserver-31337-open.html\n",
      "    Or copy and paste one of these URLs:\n",
      "        http://localhost:8888/lab?token=8d055ad8360be4ae9aededca7b3771fd4fd3c94c29fef6c8\n",
      "     or http://127.0.0.1:8888/lab?token=8d055ad8360be4ae9aededca7b3771fd4fd3c94c29fef6c8\n"
     ]
    }
   ],
   "source": [
    "## JUST FOR TESTING !!!\n",
    "jupyter lab --no-browser"
   ]
  },
  {
   "cell_type": "code",
   "execution_count": null,
   "id": "colored-nickel",
   "metadata": {},
   "outputs": [],
   "source": []
  }
 ],
 "metadata": {
  "kernelspec": {
   "display_name": "Python 3 (ipykernel)",
   "language": "python",
   "name": "python3"
  },
  "language_info": {
   "codemirror_mode": {
    "name": "ipython",
    "version": 3
   },
   "file_extension": ".py",
   "mimetype": "text/x-python",
   "name": "python",
   "nbconvert_exporter": "python",
   "pygments_lexer": "ipython3",
   "version": "3.8.16"
  }
 },
 "nbformat": 4,
 "nbformat_minor": 5
}
