{
 "cells": [
  {
   "attachments": {
    "67258d94-84e6-4a0c-ae8f-c74332ec082e.jpg": {
     "image/jpeg": "[encoded data removed]"
    }
   },
   "cell_type": "markdown",
   "id": "cubic-reviewer",
   "metadata": {
    "toc-hr-collapsed": false
   },
   "source": [
    "![jsc-logo.jpg](attachment:67258d94-84e6-4a0c-ae8f-c74332ec082e.jpg)\n",
    "Author: [Jens Henrik Göbbert](mailto:j.goebbert@fz-juelich.de)\n",
    "------------------------------------"
   ]
  },
  {
   "cell_type": "markdown",
   "id": "metric-hardwood",
   "metadata": {
    "toc-hr-collapsed": false
   },
   "source": [
    "# JupyterLab Tour\n",
    "\n",
    "This is the first time you are using JupyterLab? Let us have a look at the user interface and some general concepts.\n",
    "\n",
    "-------------------------"
   ]
  },
  {
   "cell_type": "markdown",
   "id": "conservative-nashville",
   "metadata": {},
   "source": [
    "## The JupyterLab Workspace\n",
    "JupyterLab sessions always reside in a workspace. Workspaces contain the state of JupyterLab.  \n",
    "[more](https://jupyterlab.readthedocs.io/en/stable/user/urls.html#url-workspaces-ui)\n",
    "\n",
    "**Attention:**\n",
    "A singe Jupyter Notebook Server can serve multiple sessions at the same time, but not in the same workspace.\n",
    "\n",
    "---------------------------------------------------"
   ]
  },
  {
   "attachments": {
    "8d8180c1-c334-447c-8e19-7a881c89f91d.png": {
     "image/png": "[encoded data removed]"
    },
    "934faa9c-b8fb-4c53-9b26-4e0d0bb3585b.png": {
     "image/png": "[encoded data removed]"
    }
   },
   "cell_type": "markdown",
   "id": "typical-tokyo",
   "metadata": {},
   "source": [
    "#### Exercise 1:\n",
    "Clone a workspace.\n",
    "- Copy URL to a new browser-tab\n",
    "  - Workspace will be cloned  \n",
    "    - cloning: ![grafik.png](attachment:934faa9c-b8fb-4c53-9b26-4e0d0bb3585b.png)  \n",
    "    - cloned finished: ![grafik.png](attachment:8d8180c1-c334-447c-8e19-7a881c89f91d.png)\n",
    "  - You are now working in a new workspace on the same Jupyter Notebook Server"
   ]
  },
  {
   "cell_type": "markdown",
   "id": "annoying-whale",
   "metadata": {},
   "source": [
    "#### Exercise 2:\n",
    "Find path to workspace files"
   ]
  },
  {
   "cell_type": "code",
   "execution_count": 1,
   "id": "dynamic-parker",
   "metadata": {},
   "outputs": [
    {
     "name": "stdout",
     "output_type": "stream",
     "text": [
      "total 156\n",
      "-rw-r--r-- 1 jovyan users 1466 Mar 11 14:03 auto-u-f0a6.jupyterlab-workspace\n",
      "-rw-r--r-- 1 jovyan users 3318 Mar 11 14:02 default-37a8.jupyterlab-workspace\n",
      "-rw-r--r-- 1 jovyan users  652 Nov 23 01:02 auto-h-4e46.jupyterlab-workspace\n",
      "-rw-r--r-- 1 jovyan users  591 Sep 14 13:20 bb47c38479aa4b7cbbc69067817cf2e7-9cfc.jupyterlab-workspace\n",
      "-rw-r--r-- 1 jovyan  1000 4716 Apr  7  2022 hdfcloud-88c3.jupyterlab-workspace\n",
      "-rw-r--r-- 1 jovyan  1000  565 Apr  5  2022 auto-z-87ad.jupyterlab-workspace\n",
      "-rw-r--r-- 1 jovyan  1000 1880 Apr  5  2022 auto-3-a57e.jupyterlab-workspace\n",
      "-rw-r--r-- 1 jovyan  1000  569 Jan 14  2022 juniq_test-7ba1.jupyterlab-workspace\n",
      "-rw-r--r-- 1 jovyan  1000  736 Jan 10  2022 hdfcloud_jl3-b4ac.jupyterlab-workspace\n",
      "-rw-r--r-- 1 jovyan  1000  591 Nov 22  2021 labworkspacesauto-t-0c25.jupyterlab-workspace\n",
      "-rw-r--r-- 1 jovyan  1000  546 Nov 21  2021 labworkspacestest-8c17.jupyterlab-workspace\n",
      "-rw-r--r-- 1 jovyan  1000  926 Nov  7  2021 auto-0-1753.jupyterlab-workspace\n",
      "-rw-r--r-- 1 jovyan  1000  948 Nov  4  2021 auto-p-7d55.jupyterlab-workspace\n",
      "-rw-r--r-- 1 jovyan  1000  624 Nov  3  2021 labworkspaceshdfcloud_jl2-6680.jupyterlab-workspace\n",
      "-rw-r--r-- 1 jovyan  1000  554 Nov  3  2021 labworkspaceshdfcloud_jl3-58ef.jupyterlab-workspace\n",
      "-rw-r--r-- 1 jovyan  1000 1267 Oct 31  2021 labworkspaceshdfcloud-402f.jupyterlab-workspace\n",
      "-rw-r--r-- 1 jovyan  1000  556 Oct 31  2021 labworkspaceshdfcloud_jlab2-94fe.jupyterlab-workspace\n",
      "-rw-r--r-- 1 jovyan  1000  557 Oct 31  2021 labworkspaceshdfcloud_jlab32-9962.jupyterlab-workspace\n",
      "-rw-r--r-- 1 jovyan  1000  545 Jun  9  2021 labworkspacesnew-8708.jupyterlab-workspace\n",
      "-rw-r--r-- 1 jovyan  1000  634 Jun  9  2021 labworkspacesaname-453e.jupyterlab-workspace\n",
      "-rw-r--r-- 1 jovyan  1000  976 Jun  9  2021 labworkspacesauto-4-d74f.jupyterlab-workspace\n",
      "-rw-r--r-- 1 jovyan  1000  553 Jun  9  2021 labworkspacesauto-f-8b35.jupyterlab-workspace\n",
      "-rw-r--r-- 1 jovyan  1000  732 Jun  9  2021 labworkspacesauto-l-a94b.jupyterlab-workspace\n",
      "-rw-r--r-- 1 jovyan  1000  837 Jun  9  2021 labworkspacesauto-p-df47.jupyterlab-workspace\n",
      "-rw-r--r-- 1 jovyan  1000  553 Jun  9  2021 labworkspacesauto-r-1a18.jupyterlab-workspace\n",
      "-rw-r--r-- 1 jovyan  1000  619 Jun  9  2021 labworkspaceshdfcloud2-c1fb.jupyterlab-workspace\n",
      "-rw-r--r-- 1 jovyan  1000 2061 Jun  9  2021 labworkspaceshdfcloud_2-8b9c.jupyterlab-workspace\n",
      "-rw-r--r-- 1 jovyan  1000  554 Jun  9  2021 labworkspaceshdfcloud_coe-115a.jupyterlab-workspace\n",
      "-rw-r--r-- 1 jovyan  1000  547 Jun  9  2021 labworkspacesnew22-d969.jupyterlab-workspace\n",
      "-rw-r--r-- 1 jovyan  1000 2335 Jun  9  2021 labworkspacestest1-5b77.jupyterlab-workspace\n",
      "-rw-r--r-- 1 jovyan  1000  634 Jun  9  2021 labworkspacesauto-c-4c4c.jupyterlab-workspace\n",
      "-rw-r--r-- 1 jovyan  1000 1305 Jun  9  2021 labworkspacesauto-j-a8bc.jupyterlab-workspace\n",
      "-rw-r--r-- 1 jovyan  1000  548 Jun  9  2021 labworkspacesauto-s-f059.jupyterlab-workspace\n",
      "-rw-r--r-- 1 jovyan  1000  557 Jun  9  2021 labworkspaceshdfcloud_newone-4348.jupyterlab-workspace\n",
      "-rw-r--r-- 1 jovyan  1000  577 Jun  9  2021 labworkspacesauto-i-72c8.jupyterlab-workspace\n",
      "-rw-r--r-- 1 jovyan  1000  577 Jun  9  2021 labworkspacesauto-z-8c93.jupyterlab-workspace\n",
      "-rw-r--r-- 1 jovyan  1000  577 Jun  9  2021 labworkspacesauto-z-92ef.jupyterlab-workspace\n",
      "-rw-r--r-- 1 jovyan  1000 1037 Jun  9  2021 labworkspaceshdfcloud_jlab-463a.jupyterlab-workspace\n"
     ]
    }
   ],
   "source": [
    "%%bash\n",
    "cd $HOME/.jupyter/lab/workspaces\n",
    "ls -lt"
   ]
  },
  {
   "cell_type": "markdown",
   "id": "coordinate-looking",
   "metadata": {},
   "source": [
    "#### Exercise 3:\n",
    "A workspace file in a JSON file with a specific spec.  \n",
    "Show workspace file content\n",
    "* [workspace file format](https://jupyterlab.readthedocs.io/en/stable/user/urls.html#workspace-file-format)"
   ]
  },
  {
   "cell_type": "code",
   "execution_count": 2,
   "id": "impressed-outline",
   "metadata": {},
   "outputs": [
    {
     "name": "stdout",
     "output_type": "stream",
     "text": [
      "{\"data\":{\"layout-restorer:data\":{\"main\":{\"dock\":{\"type\":\"tab-area\",\"currentIndex\":0,\"widgets\":[]},\"mode\":\"multiple-document\"},\"left\":{\"collapsed\":false,\"current\":\"filebrowser\",\"widgets\":[\"filebrowser\",\"gitlab-filebrowser\",\"running-sessions\",\"dask-dashboard-launcher\",\"git-sessions\",\"command-palette\",\"jp-property-inspector\",\"tab-manager\",\"@jupyterlab/toc:plugin\",\"lmod-sessions\",\"extensionmanager.main-view\"]},\"right\":{\"collapsed\":true,\"widgets\":[]}},\"file-browser-gitlab-filebrowser:cwd\":{\"path\":\"GitLab:jupyter4jsc/j4j_notebooks\"}},\"metadata\":{\"id\":\"/lab/workspaces/auto-i\"}}"
     ]
    }
   ],
   "source": [
    "%%bash\n",
    "cd $HOME/.jupyter/lab/workspaces\n",
    "cat $HOME/.jupyter/lab/workspaces/labworkspacesauto-i-72c8.jupyterlab-workspace"
   ]
  },
  {
   "cell_type": "code",
   "execution_count": 4,
   "id": "surgical-coverage",
   "metadata": {},
   "outputs": [
    {
     "data": {
      "application/json": {
       "data": {
        "file-browser-gitlab-filebrowser:cwd": {
         "path": "GitLab:jupyter4jsc/j4j_notebooks"
        },
        "layout-restorer:data": {
         "left": {
          "collapsed": false,
          "current": "filebrowser",
          "widgets": [
           "filebrowser",
           "gitlab-filebrowser",
           "running-sessions",
           "dask-dashboard-launcher",
           "git-sessions",
           "command-palette",
           "jp-property-inspector",
           "tab-manager",
           "@jupyterlab/toc:plugin",
           "lmod-sessions",
           "extensionmanager.main-view"
          ]
         },
         "main": {
          "dock": {
           "currentIndex": 0,
           "type": "tab-area",
           "widgets": []
          },
          "mode": "multiple-document"
         },
         "right": {
          "collapsed": true,
          "widgets": []
         }
        }
       },
       "metadata": {
        "id": "/lab/workspaces/auto-i"
       }
      },
      "text/plain": [
       "<IPython.core.display.JSON object>"
      ]
     },
     "execution_count": 4,
     "metadata": {
      "application/json": {
       "expanded": false,
       "root": "root"
      }
     },
     "output_type": "execute_result"
    }
   ],
   "source": [
    "from IPython.display import JSON\n",
    "json = !cat $HOME/.jupyter/lab/workspaces/labworkspacesauto-i-72c8.jupyterlab-workspace\n",
    "JSON(json[0])"
   ]
  },
  {
   "cell_type": "code",
   "execution_count": null,
   "id": "391c1991-1479-439d-8c55-caeed36e6af8",
   "metadata": {},
   "outputs": [],
   "source": []
  }
 ],
 "metadata": {
  "kernelspec": {
   "display_name": "Python 3 (ipykernel)",
   "language": "python",
   "name": "python3"
  },
  "language_info": {
   "codemirror_mode": {
    "name": "ipython",
    "version": 3
   },
   "file_extension": ".py",
   "mimetype": "text/x-python",
   "name": "python",
   "nbconvert_exporter": "python",
   "pygments_lexer": "ipython3",
   "version": "3.9.6"
  }
 },
 "nbformat": 4,
 "nbformat_minor": 5
}
