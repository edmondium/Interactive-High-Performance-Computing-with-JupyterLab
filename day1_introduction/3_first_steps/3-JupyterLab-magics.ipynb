{
 "cells": [
  {
   "attachments": {
    "67258d94-84e6-4a0c-ae8f-c74332ec082e.jpg": {
     "image/jpeg": "[encoded data removed]"
    }
   },
   "cell_type": "markdown",
   "id": "visible-alberta",
   "metadata": {
    "toc-hr-collapsed": false
   },
   "source": [
    "![jsc-logo.jpg](attachment:67258d94-84e6-4a0c-ae8f-c74332ec082e.jpg)\n",
    "Author: [Jens Henrik Göbbert](mailto:j.goebbert@fz-juelich.de)\n",
    "------------------------------------"
   ]
  },
  {
   "cell_type": "markdown",
   "id": "controversial-timothy",
   "metadata": {
    "toc-hr-collapsed": false
   },
   "source": [
    "# JupyterLab Tour\n",
    "\n",
    "This is the first time you are using JupyterLab? Let us have a look at the user interface and some general concepts.\n",
    "\n",
    "-------------------------"
   ]
  },
  {
   "cell_type": "markdown",
   "id": "applied-poker",
   "metadata": {},
   "source": [
    "## What are Magics?\n",
    "Build-in commands of the running kernel.\n",
    "- **Line magics**, prepended by `%`, are single-line-commands\n",
    "- **Cell magics**, prepended by `%%`, receive as argument both the current line where they are declared and the whole body of the cell.\n",
    "\n",
    "Whether Magics are available on a kernel is a decision that is made by the kernel developer on a per-kernel basis.\n",
    "Magics specific to and provided by the IPython kernel:\n",
    "    https://ipython.readthedocs.io/en/stable/interactive/magics.html\n",
    "\n",
    "-------------------------------------------------------"
   ]
  },
  {
   "cell_type": "markdown",
   "id": "upper-privilege",
   "metadata": {},
   "source": [
    "### Examples of Line Magics"
   ]
  },
  {
   "cell_type": "markdown",
   "id": "juvenile-controversy",
   "metadata": {},
   "source": [
    "#### Exercise 1:\n",
    "List currently available magic functions - `%lsmagic`"
   ]
  },
  {
   "cell_type": "code",
   "execution_count": 1,
   "id": "resistant-robert",
   "metadata": {},
   "outputs": [
    {
     "data": {
      "application/json": {
       "cell": {
        "!": "OSMagics",
        "HTML": "Other",
        "SVG": "Other",
        "bash": "Other",
        "capture": "ExecutionMagics",
        "debug": "ExecutionMagics",
        "file": "Other",
        "html": "DisplayMagics",
        "javascript": "DisplayMagics",
        "js": "DisplayMagics",
        "latex": "DisplayMagics",
        "markdown": "DisplayMagics",
        "perl": "Other",
        "prun": "ExecutionMagics",
        "pypy": "Other",
        "python": "Other",
        "python2": "Other",
        "python3": "Other",
        "ruby": "Other",
        "script": "ScriptMagics",
        "sh": "Other",
        "svg": "DisplayMagics",
        "sx": "OSMagics",
        "system": "OSMagics",
        "time": "ExecutionMagics",
        "timeit": "ExecutionMagics",
        "writefile": "OSMagics"
       },
       "line": {
        "alias": "OSMagics",
        "alias_magic": "BasicMagics",
        "autoawait": "AsyncMagics",
        "autocall": "AutoMagics",
        "automagic": "AutoMagics",
        "autosave": "KernelMagics",
        "bookmark": "OSMagics",
        "cat": "Other",
        "cd": "OSMagics",
        "clear": "KernelMagics",
        "colors": "BasicMagics",
        "conda": "PackagingMagics",
        "config": "ConfigMagics",
        "connect_info": "KernelMagics",
        "cp": "Other",
        "debug": "ExecutionMagics",
        "dhist": "OSMagics",
        "dirs": "OSMagics",
        "doctest_mode": "BasicMagics",
        "ed": "Other",
        "edit": "KernelMagics",
        "env": "OSMagics",
        "gui": "BasicMagics",
        "hist": "Other",
        "history": "HistoryMagics",
        "killbgscripts": "ScriptMagics",
        "ldir": "Other",
        "less": "KernelMagics",
        "lf": "Other",
        "lk": "Other",
        "ll": "Other",
        "load": "CodeMagics",
        "load_ext": "ExtensionMagics",
        "loadpy": "CodeMagics",
        "logoff": "LoggingMagics",
        "logon": "LoggingMagics",
        "logstart": "LoggingMagics",
        "logstate": "LoggingMagics",
        "logstop": "LoggingMagics",
        "ls": "Other",
        "lsmagic": "BasicMagics",
        "lx": "Other",
        "macro": "ExecutionMagics",
        "magic": "BasicMagics",
        "man": "KernelMagics",
        "matplotlib": "PylabMagics",
        "mkdir": "Other",
        "more": "KernelMagics",
        "mv": "Other",
        "notebook": "BasicMagics",
        "page": "BasicMagics",
        "pastebin": "CodeMagics",
        "pdb": "ExecutionMagics",
        "pdef": "NamespaceMagics",
        "pdoc": "NamespaceMagics",
        "pfile": "NamespaceMagics",
        "pinfo": "NamespaceMagics",
        "pinfo2": "NamespaceMagics",
        "pip": "PackagingMagics",
        "popd": "OSMagics",
        "pprint": "BasicMagics",
        "precision": "BasicMagics",
        "prun": "ExecutionMagics",
        "psearch": "NamespaceMagics",
        "psource": "NamespaceMagics",
        "pushd": "OSMagics",
        "pwd": "OSMagics",
        "pycat": "OSMagics",
        "pylab": "PylabMagics",
        "qtconsole": "KernelMagics",
        "quickref": "BasicMagics",
        "recall": "HistoryMagics",
        "rehashx": "OSMagics",
        "reload_ext": "ExtensionMagics",
        "rep": "Other",
        "rerun": "HistoryMagics",
        "reset": "NamespaceMagics",
        "reset_selective": "NamespaceMagics",
        "rm": "Other",
        "rmdir": "Other",
        "run": "ExecutionMagics",
        "save": "CodeMagics",
        "sc": "OSMagics",
        "set_env": "OSMagics",
        "store": "StoreMagics",
        "sx": "OSMagics",
        "system": "OSMagics",
        "tb": "ExecutionMagics",
        "time": "ExecutionMagics",
        "timeit": "ExecutionMagics",
        "unalias": "OSMagics",
        "unload_ext": "ExtensionMagics",
        "who": "NamespaceMagics",
        "who_ls": "NamespaceMagics",
        "whos": "NamespaceMagics",
        "xdel": "NamespaceMagics",
        "xmode": "BasicMagics"
       }
      },
      "text/plain": [
       "Available line magics:\n",
       "%alias  %alias_magic  %autoawait  %autocall  %automagic  %autosave  %bookmark  %cat  %cd  %clear  %colors  %conda  %config  %connect_info  %cp  %debug  %dhist  %dirs  %doctest_mode  %ed  %edit  %env  %gui  %hist  %history  %killbgscripts  %ldir  %less  %lf  %lk  %ll  %load  %load_ext  %loadpy  %logoff  %logon  %logstart  %logstate  %logstop  %ls  %lsmagic  %lx  %macro  %magic  %man  %matplotlib  %mkdir  %more  %mv  %notebook  %page  %pastebin  %pdb  %pdef  %pdoc  %pfile  %pinfo  %pinfo2  %pip  %popd  %pprint  %precision  %prun  %psearch  %psource  %pushd  %pwd  %pycat  %pylab  %qtconsole  %quickref  %recall  %rehashx  %reload_ext  %rep  %rerun  %reset  %reset_selective  %rm  %rmdir  %run  %save  %sc  %set_env  %store  %sx  %system  %tb  %time  %timeit  %unalias  %unload_ext  %who  %who_ls  %whos  %xdel  %xmode\n",
       "\n",
       "Available cell magics:\n",
       "%%!  %%HTML  %%SVG  %%bash  %%capture  %%debug  %%file  %%html  %%javascript  %%js  %%latex  %%markdown  %%perl  %%prun  %%pypy  %%python  %%python2  %%python3  %%ruby  %%script  %%sh  %%svg  %%sx  %%system  %%time  %%timeit  %%writefile\n",
       "\n",
       "Automagic is ON, % prefix IS NOT needed for line magics."
      ]
     },
     "execution_count": 1,
     "metadata": {},
     "output_type": "execute_result"
    }
   ],
   "source": [
    "%lsmagic"
   ]
  },
  {
   "cell_type": "markdown",
   "id": "meaningful-sixth",
   "metadata": {},
   "source": [
    "#### Exercise:\n",
    "Timing the execution of code - `%timeit`"
   ]
  },
  {
   "cell_type": "code",
   "execution_count": 2,
   "id": "heavy-joseph",
   "metadata": {
    "collapsed": false,
    "jupyter": {
     "outputs_hidden": false
    }
   },
   "outputs": [
    {
     "name": "stdout",
     "output_type": "stream",
     "text": [
      "2.34 ms ± 62.7 µs per loop (mean ± std. dev. of 7 runs, 100 loops each)\n"
     ]
    }
   ],
   "source": [
    "import numpy as np\n",
    "%timeit np.linalg.eigvals(np.random.rand(100,100))"
   ]
  },
  {
   "cell_type": "markdown",
   "id": "needed-defense",
   "metadata": {},
   "source": [
    "#### Exercise 2:\n",
    "Set up matplotlib to work interactively - `%matplotlib`\n",
    "- List matplotlib backends - `%matplotlib -l`\n",
    "- Enable the inline backend for usage with the IPython Notebook - `%matplotlib inline`"
   ]
  },
  {
   "cell_type": "code",
   "execution_count": 3,
   "id": "athletic-carry",
   "metadata": {},
   "outputs": [
    {
     "name": "stdout",
     "output_type": "stream",
     "text": [
      "Available matplotlib backends: ['tk', 'gtk', 'gtk3', 'gtk4', 'wx', 'qt4', 'qt5', 'qt6', 'qt', 'osx', 'nbagg', 'notebook', 'agg', 'svg', 'pdf', 'ps', 'inline', 'ipympl', 'widget']\n"
     ]
    }
   ],
   "source": [
    "%matplotlib -l"
   ]
  },
  {
   "cell_type": "code",
   "execution_count": 4,
   "id": "generous-alexander",
   "metadata": {},
   "outputs": [],
   "source": [
    "%matplotlib inline"
   ]
  },
  {
   "cell_type": "markdown",
   "id": "dietary-chorus",
   "metadata": {},
   "source": [
    "#### Exercise 3:\n",
    "Automatic reload Python packages\n",
    "- `%load_ext` - Load an IPython extension by its module name.\n",
    "  - autoreload - [more](https://ipython.org/ipython-doc/3/config/extensions/autoreload.html)\n",
    "    - `%load_ext autoload 2` - Reload all modules (except those excluded by %aimport) every time before executing the Python code typed.\n",
    "- `%xmode` - Switch modes for the exception handlers."
   ]
  },
  {
   "cell_type": "markdown",
   "id": "confused-consumer",
   "metadata": {},
   "source": [
    "#### Exercise 4:\n",
    "Tracebacks can sometimes get very longish in Python without much use.  \n",
    "Switch modes for the exception handlers - `%xmode` -[more](https://ipython.readthedocs.io/en/stable/interactive/magics.html#magic-xmode)\n",
    "* Valid modes: Plain, Context, Verbose, and Minimal."
   ]
  },
  {
   "cell_type": "markdown",
   "id": "actual-gender",
   "metadata": {},
   "source": [
    "### Examples of Cell Magics"
   ]
  },
  {
   "cell_type": "markdown",
   "id": "anonymous-manhattan",
   "metadata": {},
   "source": [
    "### Exercise 5:\n",
    "Run cells with bash in a subprocess - `%%bash`\n",
    "* shortcut for `%%script bash`\n",
    "* **!! attention: one bash subprocess per cell !!**"
   ]
  },
  {
   "cell_type": "code",
   "execution_count": 5,
   "id": "sonic-bronze",
   "metadata": {},
   "outputs": [
    {
     "name": "stdout",
     "output_type": "stream",
     "text": [
      "total 92132\n",
      "drwxr-xr-x  4 jovyan users       78 Mar  9 17:56 ecar2023_interactivehpc_jupyterlab\n",
      "drwxr-xr-x  6 jovyan  1000      111 Mar  9 17:55 prace-2022.04-jupyter4hpc\n",
      "-rw-r--r--  1 jovyan users    15953 Dec  5 14:53 ml-workshop-PyTorchToOpenFOAM.tar.gz.1\n",
      "-rw-r--r--  1 jovyan users    15953 Dec  5 14:52 ml-workshop-PyTorchToOpenFOAM.tar.gz\n",
      "-rw-r--r--  1 jovyan users    13548 Nov 30 11:27 ml-workshop-PyTorchToOpenFOAM.tar.gz.2\n",
      "drwxr-xr-x  3 jovyan users       83 Oct  6 13:31 nhr-ml-workshop-master\n",
      "lrwxrwxrwx  1 jovyan users       14 Sep 14 11:53 JUST_HOMEs_readonly -> /mnt/JUST_HOME\n",
      "drwxr-xr-x  2 jovyan  1000        6 Apr  5  2022 uftp-mount-ro\n",
      "drwxr-xr-x  3 jovyan  1000       39 Apr  5  2022 prace2022-jupyter4hpc\n",
      "-rwxr-xr-x  1 jovyan  1000      887 Nov  7  2021 launch_paraview.sh\n",
      "-rw-r--r--  1 jovyan  1000    18930 Jun  9  2021 1-mount-storage-on-HDF-Cloud.ipynb\n",
      "drwxr-xr-x 16 jovyan  1000      238 Jun  9  2021 miniconda3\n",
      "drwxr-xr-x  7 jovyan  1000     4096 Jun  9  2021 trash\n",
      "-rw-r--r--  1 jovyan  1000 94235922 Jun  9  2021 Miniconda3.sh\n",
      "-rw-r--r--  1 jovyan  1000    28366 Jun  9  2021 filename.png\n",
      "drwxr-xr-x  3 jovyan  1000       18 Jun  9  2021 previous_files\n",
      "drwxr-xr-x  8 jovyan  1000      194 Jun  9  2021 jupyterlab-demo\n",
      "drwxr-xr-x  8 jovyan  1000      230 Jun  9  2021 prace-2021.04\n",
      "drwxr-xr-x  6 jovyan  1000      111 Jun  9  2021 CoE-2021.05-jupyter4hpc_old\n",
      "drwxr-xr-x  6 jovyan  1000       98 Jun  9  2021 CoE-2021.05-jupyter4hpc\n",
      "drwxr-xr-x  2 jovyan  1000        6 Jun  9  2021 uftp-mount\n",
      "drwxr-xr-x  2 jovyan  1000        6 Jun  9  2021 uftp-mount-rw\n"
     ]
    }
   ],
   "source": [
    "%%bash\n",
    "cd $HOME\n",
    "ls -lt"
   ]
  },
  {
   "cell_type": "markdown",
   "id": "statewide-bloom",
   "metadata": {},
   "source": [
    "#### Exercise 6:\n",
    "Write the contents of the cell to a file - `%%writefile`"
   ]
  },
  {
   "cell_type": "code",
   "execution_count": 11,
   "id": "right-priority",
   "metadata": {},
   "outputs": [
    {
     "name": "stdout",
     "output_type": "stream",
     "text": [
      "Writing test.out\n"
     ]
    }
   ],
   "source": [
    "%%writefile test.out\n",
    "This is text in the file test.out"
   ]
  },
  {
   "cell_type": "markdown",
   "id": "flying-apartment",
   "metadata": {},
   "source": [
    "#### Exercise 7:\n",
    "capture stdout/err from subprocesses into Python variables"
   ]
  },
  {
   "cell_type": "code",
   "execution_count": 6,
   "id": "revised-batch",
   "metadata": {
    "collapsed": false,
    "jupyter": {
     "outputs_hidden": false
    }
   },
   "outputs": [],
   "source": [
    "%%bash --out output --err error\n",
    "echo \"hi, stdout\"\n",
    "echo \"hello, stderr\" >&2"
   ]
  },
  {
   "cell_type": "code",
   "execution_count": 7,
   "id": "electric-actor",
   "metadata": {
    "collapsed": false,
    "jupyter": {
     "outputs_hidden": false
    }
   },
   "outputs": [
    {
     "name": "stdout",
     "output_type": "stream",
     "text": [
      "hello, stderr\n",
      "\n",
      "hi, stdout\n",
      "\n"
     ]
    }
   ],
   "source": [
    "print(error)\n",
    "print(output)"
   ]
  },
  {
   "cell_type": "code",
   "execution_count": null,
   "id": "sustainable-steps",
   "metadata": {},
   "outputs": [],
   "source": []
  }
 ],
 "metadata": {
  "kernelspec": {
   "display_name": "Python 3 (ipykernel)",
   "language": "python",
   "name": "python3"
  },
  "language_info": {
   "codemirror_mode": {
    "name": "ipython",
    "version": 3
   },
   "file_extension": ".py",
   "mimetype": "text/x-python",
   "name": "python",
   "nbconvert_exporter": "python",
   "pygments_lexer": "ipython3",
   "version": "3.9.6"
  }
 },
 "nbformat": 4,
 "nbformat_minor": 5
}
